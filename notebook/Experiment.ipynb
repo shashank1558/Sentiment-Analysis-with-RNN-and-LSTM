{
 "cells": [
  {
   "cell_type": "code",
   "execution_count": 2,
   "metadata": {},
   "outputs": [],
   "source": [
    "import pandas as pd\n",
    "import matplotlib.pyplot as plt\n",
    "import seaborn as sns\n",
    "from collections import Counter\n",
    "%matplotlib inline"
   ]
  },
  {
   "cell_type": "code",
   "execution_count": 3,
   "metadata": {},
   "outputs": [
    {
     "name": "stdout",
     "output_type": "stream",
     "text": [
      "['C:\\\\Users\\\\shash\\\\Anaconda3\\\\envs\\\\sentiment_analysis\\\\python36.zip', 'C:\\\\Users\\\\shash\\\\Anaconda3\\\\envs\\\\sentiment_analysis\\\\DLLs', 'C:\\\\Users\\\\shash\\\\Anaconda3\\\\envs\\\\sentiment_analysis\\\\lib', 'C:\\\\Users\\\\shash\\\\Anaconda3\\\\envs\\\\sentiment_analysis', '', 'C:\\\\Users\\\\shash\\\\Anaconda3\\\\envs\\\\sentiment_analysis\\\\lib\\\\site-packages', 'C:\\\\Users\\\\shash\\\\Downloads\\\\Sentiment-Analysis-with-RNN-and-LSTM\\\\setup.py', 'c:\\\\users\\\\shash\\\\downloads\\\\sentiment-analysis-with-rnn-and-lstm', 'C:\\\\Users\\\\shash\\\\Anaconda3\\\\envs\\\\sentiment_analysis\\\\lib\\\\site-packages\\\\win32', 'C:\\\\Users\\\\shash\\\\Anaconda3\\\\envs\\\\sentiment_analysis\\\\lib\\\\site-packages\\\\win32\\\\lib', 'C:\\\\Users\\\\shash\\\\Anaconda3\\\\envs\\\\sentiment_analysis\\\\lib\\\\site-packages\\\\Pythonwin', 'C:\\\\Users\\\\shash\\\\Anaconda3\\\\envs\\\\sentiment_analysis\\\\lib\\\\site-packages\\\\IPython\\\\extensions', 'C:\\\\Users\\\\shash\\\\.ipython', 'C:\\\\Users\\\\shash\\\\Downloads\\\\Sentiment-Analysis-with-RNN-and-LSTM\\\\data']\n"
     ]
    }
   ],
   "source": [
    "# Solution to import from another directory\n",
    "import sys\n",
    "import os\n",
    "\n",
    "# Ignoring system gpu\n",
    "os.environ['CUDA_VISIBLE_DEVICES'] = '-1'\n",
    "\n",
    "module_path = os.path.abspath(os.path.join(\"..\"))\n",
    "if module_path not in sys.path:\n",
    "    sys.path.append(module_path+\"\\\\data\")\n",
    "\n",
    "print(sys.path)"
   ]
  },
  {
   "cell_type": "code",
   "execution_count": 40,
   "metadata": {},
   "outputs": [],
   "source": [
    "os.chdir(module_path)\n",
    "tweets = pd.read_csv('data/tweets_improved.csv')"
   ]
  },
  {
   "cell_type": "markdown",
   "metadata": {},
   "source": [
    "# Let's explore our data"
   ]
  },
  {
   "cell_type": "code",
   "execution_count": 5,
   "metadata": {},
   "outputs": [
    {
     "data": {
      "text/html": [
       "<div>\n",
       "<style scoped>\n",
       "    .dataframe tbody tr th:only-of-type {\n",
       "        vertical-align: middle;\n",
       "    }\n",
       "\n",
       "    .dataframe tbody tr th {\n",
       "        vertical-align: top;\n",
       "    }\n",
       "\n",
       "    .dataframe thead th {\n",
       "        text-align: right;\n",
       "    }\n",
       "</style>\n",
       "<table border=\"1\" class=\"dataframe\">\n",
       "  <thead>\n",
       "    <tr style=\"text-align: right;\">\n",
       "      <th></th>\n",
       "      <th>id</th>\n",
       "      <th>created_at</th>\n",
       "      <th>sentiment</th>\n",
       "      <th>tweet</th>\n",
       "    </tr>\n",
       "  </thead>\n",
       "  <tbody>\n",
       "    <tr>\n",
       "      <th>0</th>\n",
       "      <td>1282890679350439936</td>\n",
       "      <td>Tue Jul 14 04:12:27 +0000 2020</td>\n",
       "      <td>0</td>\n",
       "      <td>i think what theyre getting at though poorly c...</td>\n",
       "    </tr>\n",
       "    <tr>\n",
       "      <th>1</th>\n",
       "      <td>1282890574383677441</td>\n",
       "      <td>Tue Jul 14 04:12:02 +0000 2020</td>\n",
       "      <td>0</td>\n",
       "      <td>climate change is importantwe know thatbut we ...</td>\n",
       "    </tr>\n",
       "    <tr>\n",
       "      <th>2</th>\n",
       "      <td>1282890565592416256</td>\n",
       "      <td>Tue Jul 14 04:12:00 +0000 2020</td>\n",
       "      <td>0</td>\n",
       "      <td>how to green the worlds deserts and reverse cl...</td>\n",
       "    </tr>\n",
       "    <tr>\n",
       "      <th>3</th>\n",
       "      <td>1282890564703313921</td>\n",
       "      <td>Tue Jul 14 04:12:00 +0000 2020</td>\n",
       "      <td>0</td>\n",
       "      <td>minigrids could help take on  climatechange wh...</td>\n",
       "    </tr>\n",
       "    <tr>\n",
       "      <th>4</th>\n",
       "      <td>1282890534634156032</td>\n",
       "      <td>Tue Jul 14 04:11:53 +0000 2020</td>\n",
       "      <td>1</td>\n",
       "      <td>and antique representative hosts the show and...</td>\n",
       "    </tr>\n",
       "  </tbody>\n",
       "</table>\n",
       "</div>"
      ],
      "text/plain": [
       "                    id                      created_at  sentiment  \\\n",
       "0  1282890679350439936  Tue Jul 14 04:12:27 +0000 2020          0   \n",
       "1  1282890574383677441  Tue Jul 14 04:12:02 +0000 2020          0   \n",
       "2  1282890565592416256  Tue Jul 14 04:12:00 +0000 2020          0   \n",
       "3  1282890564703313921  Tue Jul 14 04:12:00 +0000 2020          0   \n",
       "4  1282890534634156032  Tue Jul 14 04:11:53 +0000 2020          1   \n",
       "\n",
       "                                               tweet  \n",
       "0  i think what theyre getting at though poorly c...  \n",
       "1  climate change is importantwe know thatbut we ...  \n",
       "2  how to green the worlds deserts and reverse cl...  \n",
       "3  minigrids could help take on  climatechange wh...  \n",
       "4   and antique representative hosts the show and...  "
      ]
     },
     "execution_count": 5,
     "metadata": {},
     "output_type": "execute_result"
    }
   ],
   "source": [
    "tweets.head(5)"
   ]
  },
  {
   "cell_type": "code",
   "execution_count": 6,
   "metadata": {},
   "outputs": [
    {
     "data": {
      "text/html": [
       "<div>\n",
       "<style scoped>\n",
       "    .dataframe tbody tr th:only-of-type {\n",
       "        vertical-align: middle;\n",
       "    }\n",
       "\n",
       "    .dataframe tbody tr th {\n",
       "        vertical-align: top;\n",
       "    }\n",
       "\n",
       "    .dataframe thead th {\n",
       "        text-align: right;\n",
       "    }\n",
       "</style>\n",
       "<table border=\"1\" class=\"dataframe\">\n",
       "  <thead>\n",
       "    <tr style=\"text-align: right;\">\n",
       "      <th></th>\n",
       "      <th>id</th>\n",
       "      <th>sentiment</th>\n",
       "    </tr>\n",
       "  </thead>\n",
       "  <tbody>\n",
       "    <tr>\n",
       "      <th>count</th>\n",
       "      <td>3.097000e+04</td>\n",
       "      <td>30970.000000</td>\n",
       "    </tr>\n",
       "    <tr>\n",
       "      <th>mean</th>\n",
       "      <td>1.282756e+18</td>\n",
       "      <td>0.497966</td>\n",
       "    </tr>\n",
       "    <tr>\n",
       "      <th>std</th>\n",
       "      <td>1.597473e+14</td>\n",
       "      <td>0.500004</td>\n",
       "    </tr>\n",
       "    <tr>\n",
       "      <th>min</th>\n",
       "      <td>1.282329e+18</td>\n",
       "      <td>0.000000</td>\n",
       "    </tr>\n",
       "    <tr>\n",
       "      <th>25%</th>\n",
       "      <td>1.282691e+18</td>\n",
       "      <td>0.000000</td>\n",
       "    </tr>\n",
       "    <tr>\n",
       "      <th>50%</th>\n",
       "      <td>1.282811e+18</td>\n",
       "      <td>0.000000</td>\n",
       "    </tr>\n",
       "    <tr>\n",
       "      <th>75%</th>\n",
       "      <td>1.282888e+18</td>\n",
       "      <td>1.000000</td>\n",
       "    </tr>\n",
       "    <tr>\n",
       "      <th>max</th>\n",
       "      <td>1.282897e+18</td>\n",
       "      <td>1.000000</td>\n",
       "    </tr>\n",
       "  </tbody>\n",
       "</table>\n",
       "</div>"
      ],
      "text/plain": [
       "                 id     sentiment\n",
       "count  3.097000e+04  30970.000000\n",
       "mean   1.282756e+18      0.497966\n",
       "std    1.597473e+14      0.500004\n",
       "min    1.282329e+18      0.000000\n",
       "25%    1.282691e+18      0.000000\n",
       "50%    1.282811e+18      0.000000\n",
       "75%    1.282888e+18      1.000000\n",
       "max    1.282897e+18      1.000000"
      ]
     },
     "execution_count": 6,
     "metadata": {},
     "output_type": "execute_result"
    }
   ],
   "source": [
    "tweets.describe()"
   ]
  },
  {
   "cell_type": "code",
   "execution_count": 7,
   "metadata": {},
   "outputs": [
    {
     "data": {
      "text/plain": [
       "0    15548\n",
       "1    15422\n",
       "Name: sentiment, dtype: int64"
      ]
     },
     "execution_count": 7,
     "metadata": {},
     "output_type": "execute_result"
    }
   ],
   "source": [
    "tweets['sentiment'].value_counts()"
   ]
  },
  {
   "cell_type": "code",
   "execution_count": 8,
   "metadata": {},
   "outputs": [
    {
     "data": {
      "image/png": "[encoded data removed]",
      "text/plain": [
       "<Figure size 432x288 with 1 Axes>"
      ]
     },
     "metadata": {
      "needs_background": "light"
     },
     "output_type": "display_data"
    }
   ],
   "source": [
    "# Count of positive and negative tweets\n",
    "chart = sns.countplot(x='sentiment',data=tweets, palette='coolwarm', hue='sentiment', dodge=False)\n",
    "plt.legend(loc='best', labels=['Negative', 'Positive'])\n",
    "plt.show(chart)"
   ]
  },
  {
   "cell_type": "code",
   "execution_count": 42,
   "metadata": {},
   "outputs": [],
   "source": [
    "# Storing tokenized tweet and number of words in each tweet \n",
    "tweets['tweet_list'] = tweets['tweet'].apply(lambda x:str(x).split())\n",
    "tweets['num_of_words'] = tweets['tweet'].apply(lambda x:len(str(x).split()))"
   ]
  },
  {
   "cell_type": "code",
   "execution_count": 43,
   "metadata": {},
   "outputs": [
    {
     "data": {
      "text/html": [
       "<style  type=\"text/css\" >\n",
       "    #T_5f422ffe_c707_11ea_bbf5_950d717711a7row0_col1 {\n",
       "            background-color:  #08306b;\n",
       "            color:  #f1f1f1;\n",
       "        }    #T_5f422ffe_c707_11ea_bbf5_950d717711a7row1_col1 {\n",
       "            background-color:  #1b69af;\n",
       "            color:  #f1f1f1;\n",
       "        }    #T_5f422ffe_c707_11ea_bbf5_950d717711a7row2_col1 {\n",
       "            background-color:  #56a0ce;\n",
       "            color:  #000000;\n",
       "        }    #T_5f422ffe_c707_11ea_bbf5_950d717711a7row3_col1 {\n",
       "            background-color:  #84bcdb;\n",
       "            color:  #000000;\n",
       "        }    #T_5f422ffe_c707_11ea_bbf5_950d717711a7row4_col1 {\n",
       "            background-color:  #8dc1dd;\n",
       "            color:  #000000;\n",
       "        }    #T_5f422ffe_c707_11ea_bbf5_950d717711a7row5_col1 {\n",
       "            background-color:  #94c4df;\n",
       "            color:  #000000;\n",
       "        }    #T_5f422ffe_c707_11ea_bbf5_950d717711a7row6_col1 {\n",
       "            background-color:  #95c5df;\n",
       "            color:  #000000;\n",
       "        }    #T_5f422ffe_c707_11ea_bbf5_950d717711a7row7_col1 {\n",
       "            background-color:  #97c6df;\n",
       "            color:  #000000;\n",
       "        }    #T_5f422ffe_c707_11ea_bbf5_950d717711a7row8_col1 {\n",
       "            background-color:  #bad6eb;\n",
       "            color:  #000000;\n",
       "        }    #T_5f422ffe_c707_11ea_bbf5_950d717711a7row9_col1 {\n",
       "            background-color:  #c6dbef;\n",
       "            color:  #000000;\n",
       "        }    #T_5f422ffe_c707_11ea_bbf5_950d717711a7row10_col1 {\n",
       "            background-color:  #d7e6f5;\n",
       "            color:  #000000;\n",
       "        }    #T_5f422ffe_c707_11ea_bbf5_950d717711a7row11_col1 {\n",
       "            background-color:  #dae8f6;\n",
       "            color:  #000000;\n",
       "        }    #T_5f422ffe_c707_11ea_bbf5_950d717711a7row12_col1 {\n",
       "            background-color:  #e2edf8;\n",
       "            color:  #000000;\n",
       "        }    #T_5f422ffe_c707_11ea_bbf5_950d717711a7row13_col1 {\n",
       "            background-color:  #e3eef8;\n",
       "            color:  #000000;\n",
       "        }    #T_5f422ffe_c707_11ea_bbf5_950d717711a7row14_col1 {\n",
       "            background-color:  #e8f1fa;\n",
       "            color:  #000000;\n",
       "        }    #T_5f422ffe_c707_11ea_bbf5_950d717711a7row15_col1 {\n",
       "            background-color:  #eaf2fb;\n",
       "            color:  #000000;\n",
       "        }    #T_5f422ffe_c707_11ea_bbf5_950d717711a7row16_col1 {\n",
       "            background-color:  #f2f8fd;\n",
       "            color:  #000000;\n",
       "        }    #T_5f422ffe_c707_11ea_bbf5_950d717711a7row17_col1 {\n",
       "            background-color:  #f5f9fe;\n",
       "            color:  #000000;\n",
       "        }    #T_5f422ffe_c707_11ea_bbf5_950d717711a7row18_col1 {\n",
       "            background-color:  #f6faff;\n",
       "            color:  #000000;\n",
       "        }    #T_5f422ffe_c707_11ea_bbf5_950d717711a7row19_col1 {\n",
       "            background-color:  #f7fbff;\n",
       "            color:  #000000;\n",
       "        }</style><table id=\"T_5f422ffe_c707_11ea_bbf5_950d717711a7\" ><thead>    <tr>        <th class=\"blank level0\" ></th>        <th class=\"col_heading level0 col0\" >Common_words</th>        <th class=\"col_heading level0 col1\" >count</th>    </tr></thead><tbody>\n",
       "                <tr>\n",
       "                        <th id=\"T_5f422ffe_c707_11ea_bbf5_950d717711a7level0_row0\" class=\"row_heading level0 row0\" >0</th>\n",
       "                        <td id=\"T_5f422ffe_c707_11ea_bbf5_950d717711a7row0_col0\" class=\"data row0 col0\" >the</td>\n",
       "                        <td id=\"T_5f422ffe_c707_11ea_bbf5_950d717711a7row0_col1\" class=\"data row0 col1\" >25433</td>\n",
       "            </tr>\n",
       "            <tr>\n",
       "                        <th id=\"T_5f422ffe_c707_11ea_bbf5_950d717711a7level0_row1\" class=\"row_heading level0 row1\" >1</th>\n",
       "                        <td id=\"T_5f422ffe_c707_11ea_bbf5_950d717711a7row1_col0\" class=\"data row1 col0\" >to</td>\n",
       "                        <td id=\"T_5f422ffe_c707_11ea_bbf5_950d717711a7row1_col1\" class=\"data row1 col1\" >20727</td>\n",
       "            </tr>\n",
       "            <tr>\n",
       "                        <th id=\"T_5f422ffe_c707_11ea_bbf5_950d717711a7level0_row2\" class=\"row_heading level0 row2\" >2</th>\n",
       "                        <td id=\"T_5f422ffe_c707_11ea_bbf5_950d717711a7row2_col0\" class=\"data row2 col0\" >and</td>\n",
       "                        <td id=\"T_5f422ffe_c707_11ea_bbf5_950d717711a7row2_col1\" class=\"data row2 col1\" >16203</td>\n",
       "            </tr>\n",
       "            <tr>\n",
       "                        <th id=\"T_5f422ffe_c707_11ea_bbf5_950d717711a7level0_row3\" class=\"row_heading level0 row3\" >3</th>\n",
       "                        <td id=\"T_5f422ffe_c707_11ea_bbf5_950d717711a7row3_col0\" class=\"data row3 col0\" >a</td>\n",
       "                        <td id=\"T_5f422ffe_c707_11ea_bbf5_950d717711a7row3_col1\" class=\"data row3 col1\" >13508</td>\n",
       "            </tr>\n",
       "            <tr>\n",
       "                        <th id=\"T_5f422ffe_c707_11ea_bbf5_950d717711a7level0_row4\" class=\"row_heading level0 row4\" >4</th>\n",
       "                        <td id=\"T_5f422ffe_c707_11ea_bbf5_950d717711a7row4_col0\" class=\"data row4 col0\" >climate</td>\n",
       "                        <td id=\"T_5f422ffe_c707_11ea_bbf5_950d717711a7row4_col1\" class=\"data row4 col1\" >13021</td>\n",
       "            </tr>\n",
       "            <tr>\n",
       "                        <th id=\"T_5f422ffe_c707_11ea_bbf5_950d717711a7level0_row5\" class=\"row_heading level0 row5\" >5</th>\n",
       "                        <td id=\"T_5f422ffe_c707_11ea_bbf5_950d717711a7row5_col0\" class=\"data row5 col0\" >i</td>\n",
       "                        <td id=\"T_5f422ffe_c707_11ea_bbf5_950d717711a7row5_col1\" class=\"data row5 col1\" >12728</td>\n",
       "            </tr>\n",
       "            <tr>\n",
       "                        <th id=\"T_5f422ffe_c707_11ea_bbf5_950d717711a7level0_row6\" class=\"row_heading level0 row6\" >6</th>\n",
       "                        <td id=\"T_5f422ffe_c707_11ea_bbf5_950d717711a7row6_col0\" class=\"data row6 col0\" >of</td>\n",
       "                        <td id=\"T_5f422ffe_c707_11ea_bbf5_950d717711a7row6_col1\" class=\"data row6 col1\" >12627</td>\n",
       "            </tr>\n",
       "            <tr>\n",
       "                        <th id=\"T_5f422ffe_c707_11ea_bbf5_950d717711a7level0_row7\" class=\"row_heading level0 row7\" >7</th>\n",
       "                        <td id=\"T_5f422ffe_c707_11ea_bbf5_950d717711a7row7_col0\" class=\"data row7 col0\" >change</td>\n",
       "                        <td id=\"T_5f422ffe_c707_11ea_bbf5_950d717711a7row7_col1\" class=\"data row7 col1\" >12521</td>\n",
       "            </tr>\n",
       "            <tr>\n",
       "                        <th id=\"T_5f422ffe_c707_11ea_bbf5_950d717711a7level0_row8\" class=\"row_heading level0 row8\" >8</th>\n",
       "                        <td id=\"T_5f422ffe_c707_11ea_bbf5_950d717711a7row8_col0\" class=\"data row8 col0\" >is</td>\n",
       "                        <td id=\"T_5f422ffe_c707_11ea_bbf5_950d717711a7row8_col1\" class=\"data row8 col1\" >10270</td>\n",
       "            </tr>\n",
       "            <tr>\n",
       "                        <th id=\"T_5f422ffe_c707_11ea_bbf5_950d717711a7level0_row9\" class=\"row_heading level0 row9\" >9</th>\n",
       "                        <td id=\"T_5f422ffe_c707_11ea_bbf5_950d717711a7row9_col0\" class=\"data row9 col0\" >in</td>\n",
       "                        <td id=\"T_5f422ffe_c707_11ea_bbf5_950d717711a7row9_col1\" class=\"data row9 col1\" >9500</td>\n",
       "            </tr>\n",
       "            <tr>\n",
       "                        <th id=\"T_5f422ffe_c707_11ea_bbf5_950d717711a7level0_row10\" class=\"row_heading level0 row10\" >10</th>\n",
       "                        <td id=\"T_5f422ffe_c707_11ea_bbf5_950d717711a7row10_col0\" class=\"data row10 col0\" >you</td>\n",
       "                        <td id=\"T_5f422ffe_c707_11ea_bbf5_950d717711a7row10_col1\" class=\"data row10 col1\" >7642</td>\n",
       "            </tr>\n",
       "            <tr>\n",
       "                        <th id=\"T_5f422ffe_c707_11ea_bbf5_950d717711a7level0_row11\" class=\"row_heading level0 row11\" >11</th>\n",
       "                        <td id=\"T_5f422ffe_c707_11ea_bbf5_950d717711a7row11_col0\" class=\"data row11 col0\" >for</td>\n",
       "                        <td id=\"T_5f422ffe_c707_11ea_bbf5_950d717711a7row11_col1\" class=\"data row11 col1\" >7283</td>\n",
       "            </tr>\n",
       "            <tr>\n",
       "                        <th id=\"T_5f422ffe_c707_11ea_bbf5_950d717711a7level0_row12\" class=\"row_heading level0 row12\" >12</th>\n",
       "                        <td id=\"T_5f422ffe_c707_11ea_bbf5_950d717711a7row12_col0\" class=\"data row12 col0\" >that</td>\n",
       "                        <td id=\"T_5f422ffe_c707_11ea_bbf5_950d717711a7row12_col1\" class=\"data row12 col1\" >6442</td>\n",
       "            </tr>\n",
       "            <tr>\n",
       "                        <th id=\"T_5f422ffe_c707_11ea_bbf5_950d717711a7level0_row13\" class=\"row_heading level0 row13\" >13</th>\n",
       "                        <td id=\"T_5f422ffe_c707_11ea_bbf5_950d717711a7row13_col0\" class=\"data row13 col0\" >sleep</td>\n",
       "                        <td id=\"T_5f422ffe_c707_11ea_bbf5_950d717711a7row13_col1\" class=\"data row13 col1\" >6392</td>\n",
       "            </tr>\n",
       "            <tr>\n",
       "                        <th id=\"T_5f422ffe_c707_11ea_bbf5_950d717711a7level0_row14\" class=\"row_heading level0 row14\" >14</th>\n",
       "                        <td id=\"T_5f422ffe_c707_11ea_bbf5_950d717711a7row14_col0\" class=\"data row14 col0\" >on</td>\n",
       "                        <td id=\"T_5f422ffe_c707_11ea_bbf5_950d717711a7row14_col1\" class=\"data row14 col1\" >5792</td>\n",
       "            </tr>\n",
       "            <tr>\n",
       "                        <th id=\"T_5f422ffe_c707_11ea_bbf5_950d717711a7level0_row15\" class=\"row_heading level0 row15\" >15</th>\n",
       "                        <td id=\"T_5f422ffe_c707_11ea_bbf5_950d717711a7row15_col0\" class=\"data row15 col0\" >it</td>\n",
       "                        <td id=\"T_5f422ffe_c707_11ea_bbf5_950d717711a7row15_col1\" class=\"data row15 col1\" >5615</td>\n",
       "            </tr>\n",
       "            <tr>\n",
       "                        <th id=\"T_5f422ffe_c707_11ea_bbf5_950d717711a7level0_row16\" class=\"row_heading level0 row16\" >16</th>\n",
       "                        <td id=\"T_5f422ffe_c707_11ea_bbf5_950d717711a7row16_col0\" class=\"data row16 col0\" >exercise</td>\n",
       "                        <td id=\"T_5f422ffe_c707_11ea_bbf5_950d717711a7row16_col1\" class=\"data row16 col1\" >4681</td>\n",
       "            </tr>\n",
       "            <tr>\n",
       "                        <th id=\"T_5f422ffe_c707_11ea_bbf5_950d717711a7level0_row17\" class=\"row_heading level0 row17\" >17</th>\n",
       "                        <td id=\"T_5f422ffe_c707_11ea_bbf5_950d717711a7row17_col0\" class=\"data row17 col0\" >this</td>\n",
       "                        <td id=\"T_5f422ffe_c707_11ea_bbf5_950d717711a7row17_col1\" class=\"data row17 col1\" >4456</td>\n",
       "            </tr>\n",
       "            <tr>\n",
       "                        <th id=\"T_5f422ffe_c707_11ea_bbf5_950d717711a7level0_row18\" class=\"row_heading level0 row18\" >18</th>\n",
       "                        <td id=\"T_5f422ffe_c707_11ea_bbf5_950d717711a7row18_col0\" class=\"data row18 col0\" >we</td>\n",
       "                        <td id=\"T_5f422ffe_c707_11ea_bbf5_950d717711a7row18_col1\" class=\"data row18 col1\" >4293</td>\n",
       "            </tr>\n",
       "            <tr>\n",
       "                        <th id=\"T_5f422ffe_c707_11ea_bbf5_950d717711a7level0_row19\" class=\"row_heading level0 row19\" >19</th>\n",
       "                        <td id=\"T_5f422ffe_c707_11ea_bbf5_950d717711a7row19_col0\" class=\"data row19 col0\" >are</td>\n",
       "                        <td id=\"T_5f422ffe_c707_11ea_bbf5_950d717711a7row19_col1\" class=\"data row19 col1\" >4182</td>\n",
       "            </tr>\n",
       "    </tbody></table>"
      ],
      "text/plain": [
       "<pandas.io.formats.style.Styler at 0x23bb586c278>"
      ]
     },
     "execution_count": 43,
     "metadata": {},
     "output_type": "execute_result"
    }
   ],
   "source": [
    "# Create vocabulary\n",
    "vocab_counter = Counter([item for sublist in tweets['tweet_list'] for item in sublist])\n",
    "vocab = list(vocab_counter.keys())\n",
    "\n",
    "# Looking up top 20 words by word count\n",
    "temp = pd.DataFrame(vocab_counter.most_common(20))\n",
    "temp.columns = ['Common_words','count']\n",
    "temp.style.background_gradient(cmap='Blues')"
   ]
  },
  {
   "cell_type": "code",
   "execution_count": 11,
   "metadata": {},
   "outputs": [
    {
     "data": {
      "text/plain": [
       "<seaborn.axisgrid.FacetGrid at 0x23bb662b898>"
      ]
     },
     "execution_count": 11,
     "metadata": {},
     "output_type": "execute_result"
    },
    {
     "data": {
      "image/png": "[encoded data removed]",
      "text/plain": [
       "<Figure size 720x720 with 1 Axes>"
      ]
     },
     "metadata": {
      "needs_background": "light"
     },
     "output_type": "display_data"
    }
   ],
   "source": [
    "sns.catplot(x='count', y='Common_words',data=temp, palette='coolwarm', kind='bar', height=10, aspect=1, dodge=False)"
   ]
  },
  {
   "cell_type": "code",
   "execution_count": 44,
   "metadata": {},
   "outputs": [
    {
     "data": {
      "text/plain": [
       "count    30970.000000\n",
       "mean        23.007201\n",
       "std         14.308707\n",
       "min          1.000000\n",
       "25%         11.000000\n",
       "50%         20.000000\n",
       "75%         35.000000\n",
       "max         63.000000\n",
       "Name: num_of_words, dtype: float64"
      ]
     },
     "execution_count": 44,
     "metadata": {},
     "output_type": "execute_result"
    }
   ],
   "source": [
    "# Maximum number of words in a tweet in our dataset\n",
    "tweets['num_of_words'].describe()"
   ]
  },
  {
   "cell_type": "code",
   "execution_count": 56,
   "metadata": {},
   "outputs": [
    {
     "data": {
      "image/png": "[encoded data removed]",
      "text/plain": [
       "<Figure size 432x288 with 1 Axes>"
      ]
     },
     "metadata": {
      "needs_background": "light"
     },
     "output_type": "display_data"
    }
   ],
   "source": [
    "sns.distplot(tweets['num_of_words'], bins=100, kde=False, rug=True);\n",
    "# plt.hist(tweets['num_of_words'], bins=50)\n",
    "# plt.gca().set(title='Frequency Histogram', ylabel='Frequency');"
   ]
  },
  {
   "cell_type": "markdown",
   "metadata": {},
   "source": [
    "# Model"
   ]
  },
  {
   "cell_type": "code",
   "execution_count": 95,
   "metadata": {},
   "outputs": [],
   "source": [
    "import numpy as np\n",
    "import tensorflow as tf\n",
    "from tensorflow.keras import layers\n",
    "from tensorflow.keras.preprocessing.text import Tokenizer\n",
    "from tensorflow.keras.preprocessing.sequence import pad_sequences\n",
    "from tensorflow import keras\n",
    "from sklearn.model_selection import train_test_split\n",
    "from tensorflow.keras.utils import to_categorical\n",
    "\n",
    "\n",
    "max_features = 50\n",
    "embedding_dim = 50\n",
    "embeding_path = f\"data/word_embedding/glove.twitter.27B.{embedding_dim}d.txt\""
   ]
  },
  {
   "cell_type": "code",
   "execution_count": 15,
   "metadata": {},
   "outputs": [],
   "source": [
    "def get_word_embedding_dictionary():\n",
    "    \"\"\" creates word_to_vector, word_to_index and index_to_word dictionaries \"\"\"\n",
    "    with open(embeding_path, 'r', encoding='utf-8') as f:\n",
    "        words = set()\n",
    "        word_to_vec_map = {}\n",
    "        skip_count = 0\n",
    "        \n",
    "        # Extracting word and its vectors\n",
    "        for line in f:\n",
    "            line_list = line.split()\n",
    "            \n",
    "            # Ignoring unresolvable words\n",
    "            if len(line_list)!=embedding_dim+1:\n",
    "                skip_count +=1\n",
    "                continue\n",
    "            curr_word = line_list[0]\n",
    "            words.add(curr_word)\n",
    "            word_to_vec_map[curr_word] = np.array(line_list[1:], dtype=np.float64)\n",
    "            \n",
    "        word_to_index = {}\n",
    "        index_to_word = {}\n",
    "        for i,w in enumerate(sorted(words)):\n",
    "            word_to_index[w] = i\n",
    "            index_to_word[i] = w\n",
    "    return word_to_index, index_to_word, word_to_vec_map"
   ]
  },
  {
   "cell_type": "code",
   "execution_count": 16,
   "metadata": {},
   "outputs": [
    {
     "name": "stdout",
     "output_type": "stream",
     "text": [
      "[ 0.68243    0.73589    0.017529  -0.13763    0.36029    0.51704\n",
      "  0.1954     0.75219    0.43029    1.0728     0.05725    0.60043\n",
      " -2.4946     0.032148  -0.44991    0.0097306 -0.013653  -0.51001\n",
      "  0.25079   -0.34493    0.33606   -0.0096185 -0.51301    0.1276\n",
      "  0.85964   -0.78568   -0.1914    -0.0033234  0.89442    0.39503\n",
      " -0.95075    0.93803   -0.31701    0.56457    1.0153     0.86391\n",
      " -0.19971    0.47159   -0.26864    0.12548   -2.749     -0.55106\n",
      "  0.040409   0.29164   -0.28792   -0.02274   -0.40295    0.14771\n",
      "  0.080503  -0.68115  ]\n"
     ]
    }
   ],
   "source": [
    "word_to_index, index_to_word, word_to_vec_map = get_word_embedding_dictionary()\n",
    "print(word_to_vec_map['rt'])"
   ]
  },
  {
   "cell_type": "code",
   "execution_count": 17,
   "metadata": {},
   "outputs": [],
   "source": [
    "def sentence_to_avg(text, word_to_vec_map):\n",
    "    \n",
    "    word_list = text.lower().split()   \n",
    "    word_list_len = len(word_list)   \n",
    "    \n",
    "    # Embedding array\n",
    "    emb_arr = np.zeros((embedding_dim,word_list_len))    \n",
    "    \n",
    "    for i,word in enumerate(word_list):\n",
    "        emb_arr[:,i] = word_to_vec_map[word]\n",
    "    \n",
    "    # Averaging the embeddings across columns\n",
    "    average = np.mean(emb_arr, axis=1) \n",
    "    \n",
    "    return average"
   ]
  },
  {
   "cell_type": "code",
   "execution_count": 19,
   "metadata": {},
   "outputs": [],
   "source": [
    "def sentences_to_indices(X, word_to_index, max_len):    \n",
    "    m = X.shape[0]                                   \n",
    "    \n",
    "    X_indices = np.zeros((m,max_len))\n",
    "    \n",
    "    # Assign indices to words\n",
    "    for i,sentence in enumerate(X):        \n",
    "        sentence_words = sentence.lower().split()\n",
    "        sentence_words = sentence_words[:max_len]\n",
    "        for j,word in enumerate(sentence_words):\n",
    "            X_indices[i, j] = word_to_index.get(word,0)\n",
    "    return X_indices"
   ]
  },
  {
   "cell_type": "code",
   "execution_count": 20,
   "metadata": {},
   "outputs": [
    {
     "name": "stdout",
     "output_type": "stream",
     "text": [
      "X1 = ['funny lol spug' 'lets play baseball' 'food is ready for you']\n",
      "X1_indices =\n",
      " [[217641.]\n",
      " [339235.]\n",
      " [211510.]]\n",
      "217641\n"
     ]
    }
   ],
   "source": [
    "X1 = np.array([\"funny lol spug\", \"lets play baseball\", \"food is ready for you\"])\n",
    "X1_indices = sentences_to_indices(X1,word_to_index, max_len = 1)\n",
    "print(\"X1 =\", X1)\n",
    "print(\"X1_indices =\\n\", X1_indices)\n",
    "print(word_to_index.get('funny'))"
   ]
  },
  {
   "cell_type": "code",
   "execution_count": 21,
   "metadata": {},
   "outputs": [],
   "source": [
    "def pretrained_embedding_layer(word_to_vec_map, word_to_index):\n",
    "    # Adding 1 to fit Keras embedding (requirement)\n",
    "    vocab_len = len(word_to_index) + 1                  \n",
    "\n",
    "    emb_matrix = np.zeros((vocab_len,embedding_dim))\n",
    "    for word, idx in word_to_index.items():\n",
    "        emb_matrix[idx, :] = word_to_vec_map[word]\n",
    "\n",
    "    embedding_layer = layers.Embedding(\n",
    "                        vocab_len,\n",
    "                        embedding_dim,\n",
    "                        trainable = False\n",
    "                        )\n",
    "\n",
    "\n",
    "    # Build the embedding layer, it is required before setting the weights of the embedding layer. \n",
    "    embedding_layer.build((None,))\n",
    "    \n",
    "    # Set the weights of the embedding layer to the embedding matrix. Your layer is now pretrained.\n",
    "    embedding_layer.set_weights([emb_matrix])\n",
    "    \n",
    "    return embedding_layer"
   ]
  },
  {
   "cell_type": "code",
   "execution_count": 96,
   "metadata": {},
   "outputs": [],
   "source": [
    "def sentiment_model(input_shape, word_to_vec_map, word_to_index):\n",
    "    # Define sentence_indices as the input of the graph.\n",
    "    sentence_indices =layers.Input(shape=input_shape, dtype='int32')\n",
    "    \n",
    "    # Create the embedding layer pretrained with GloVe Vectors\n",
    "    embedding_layer = pretrained_embedding_layer(word_to_vec_map, word_to_index)\n",
    "    \n",
    "\n",
    "    embeddings = embedding_layer(sentence_indices)   \n",
    "    x = layers.LSTM(70, return_sequences=True)(embeddings)\n",
    "    x = layers.Dropout(0.5)(x)\n",
    "    x = layers.BatchNormalization()(x)\n",
    "    x = layers.LSTM(70)(x)\n",
    "    x = layers.Dropout(0.5)(x)\n",
    "    x = layers.BatchNormalization()(x)\n",
    "#     x = layers.Dense(4, activation='relu')(x)\n",
    "#     x = layers.BatchNormalization()(x)\n",
    "    predictions = layers.Dense(1, activation=\"sigmoid\", name=\"predictions\")(x)\n",
    "    \n",
    "    # Create Model instance which converts sentence_indices into X.\n",
    "    model = keras.Model(inputs=sentence_indices,outputs=predictions)\n",
    "    \n",
    "    \n",
    "    return model"
   ]
  },
  {
   "cell_type": "code",
   "execution_count": 97,
   "metadata": {},
   "outputs": [
    {
     "name": "stdout",
     "output_type": "stream",
     "text": [
      "Model: \"model_8\"\n",
      "_________________________________________________________________\n",
      "Layer (type)                 Output Shape              Param #   \n",
      "=================================================================\n",
      "input_9 (InputLayer)         [(None, 50)]              0         \n",
      "_________________________________________________________________\n",
      "embedding_8 (Embedding)      (None, 50, 50)            59675700  \n",
      "_________________________________________________________________\n",
      "lstm_16 (LSTM)               (None, 50, 70)            33880     \n",
      "_________________________________________________________________\n",
      "dropout_16 (Dropout)         (None, 50, 70)            0         \n",
      "_________________________________________________________________\n",
      "batch_normalization_17 (Batc (None, 50, 70)            280       \n",
      "_________________________________________________________________\n",
      "lstm_17 (LSTM)               (None, 70)                39480     \n",
      "_________________________________________________________________\n",
      "dropout_17 (Dropout)         (None, 70)                0         \n",
      "_________________________________________________________________\n",
      "batch_normalization_18 (Batc (None, 70)                280       \n",
      "_________________________________________________________________\n",
      "predictions (Dense)          (None, 1)                 71        \n",
      "=================================================================\n",
      "Total params: 59,749,691\n",
      "Trainable params: 73,711\n",
      "Non-trainable params: 59,675,980\n",
      "_________________________________________________________________\n"
     ]
    }
   ],
   "source": [
    "model = sentiment_model((max_features,), word_to_vec_map, word_to_index)\n",
    "model.summary()"
   ]
  },
  {
   "cell_type": "code",
   "execution_count": null,
   "metadata": {},
   "outputs": [],
   "source": []
  },
  {
   "cell_type": "markdown",
   "metadata": {},
   "source": [
    "# Creating training set"
   ]
  },
  {
   "cell_type": "code",
   "execution_count": 24,
   "metadata": {},
   "outputs": [],
   "source": [
    "X_train = tweets['tweet']\n",
    "Y_train = tweets['sentiment']"
   ]
  },
  {
   "cell_type": "code",
   "execution_count": 25,
   "metadata": {},
   "outputs": [],
   "source": [
    "tweets_test = pd.read_csv('data/tweets_test.csv')"
   ]
  },
  {
   "cell_type": "code",
   "execution_count": 26,
   "metadata": {},
   "outputs": [],
   "source": [
    "# X_test, Y_test = tweets_test['tweet'], tweets_test['sentiment']"
   ]
  },
  {
   "cell_type": "code",
   "execution_count": 60,
   "metadata": {},
   "outputs": [],
   "source": [
    "X_val, X_test, Y_val, Y_test = train_test_split(tweets_test['tweet'],tweets_test['sentiment'], test_size = 0.50, random_state = 1)"
   ]
  },
  {
   "cell_type": "code",
   "execution_count": 61,
   "metadata": {},
   "outputs": [
    {
     "name": "stdout",
     "output_type": "stream",
     "text": [
      "(30970,) (30970,)\n",
      "(4197,) (4197,)\n",
      "(4198,) (4198,)\n"
     ]
    }
   ],
   "source": [
    "print(X_train.shape,Y_train.shape)\n",
    "print(X_val.shape,Y_val.shape)\n",
    "print(X_test.shape,Y_test.shape)"
   ]
  },
  {
   "cell_type": "code",
   "execution_count": 62,
   "metadata": {},
   "outputs": [],
   "source": [
    "X_train_indices = sentences_to_indices(X_train, word_to_index, max_features)\n",
    "Y_train_OH = to_categorical(Y_train)\n",
    "X_val_indices = sentences_to_indices(X_val, word_to_index, max_features)"
   ]
  },
  {
   "cell_type": "code",
   "execution_count": 64,
   "metadata": {},
   "outputs": [
    {
     "name": "stdout",
     "output_type": "stream",
     "text": [
      "55\n"
     ]
    }
   ],
   "source": [
    "print(len(X_train_indices[1]))"
   ]
  },
  {
   "cell_type": "code",
   "execution_count": 93,
   "metadata": {},
   "outputs": [],
   "source": [
    "# initial_learning_rate = 0.01\n",
    "# lr_schedule = keras.optimizers.schedules.ExponentialDecay(\n",
    "#     initial_learning_rate,\n",
    "#     decay_steps=100000,\n",
    "#     decay_rate=0.25,\n",
    "#     staircase=False)\n",
    "opt = keras.optimizers.Adam(learning_rate=0.01)\n",
    "model.compile(loss='binary_crossentropy', optimizer='adam', metrics=['accuracy'])\n",
    "tensorboard_callback = keras.callbacks.TensorBoard(log_dir=\"logs\")\n",
    "es_callback = keras.callbacks.EarlyStopping(monitor='val_loss', mode='min', verbose=1, patience=10)"
   ]
  },
  {
   "cell_type": "code",
   "execution_count": 94,
   "metadata": {
    "scrolled": false
   },
   "outputs": [
    {
     "name": "stdout",
     "output_type": "stream",
     "text": [
      "Train on 30970 samples, validate on 4197 samples\n",
      "Epoch 1/30\n",
      "   30/30970 [..............................] - ETA: 2:49:06 - loss: 0.7450 - accuracy: 0.6333WARNING:tensorflow:Method (on_train_batch_end) is slow compared to the batch update (0.347549). Check your callbacks.\n",
      "30970/30970 [==============================] - 114s 4ms/sample - loss: 0.6807 - accuracy: 0.6085 - val_loss: 0.7371 - val_accuracy: 0.4670\n",
      "Epoch 2/30\n",
      "30970/30970 [==============================] - 104s 3ms/sample - loss: 0.5705 - accuracy: 0.7085 - val_loss: 0.8972 - val_accuracy: 0.4599\n",
      "Epoch 3/30\n",
      "20790/30970 [===================>..........] - ETA: 31s - loss: 0.5366 - accuracy: 0.7359WARNING:tensorflow:Early stopping conditioned on metric `val_loss` which is not available. Available metrics are: loss,accuracy\n"
     ]
    },
    {
     "ename": "KeyboardInterrupt",
     "evalue": "",
     "output_type": "error",
     "traceback": [
      "\u001b[1;31m---------------------------------------------------------------------------\u001b[0m",
      "\u001b[1;31mKeyboardInterrupt\u001b[0m                         Traceback (most recent call last)",
      "\u001b[1;32m<ipython-input-94-daf06bc768be>\u001b[0m in \u001b[0;36m<module>\u001b[1;34m\u001b[0m\n\u001b[0;32m      2\u001b[0m                     \u001b[0mepochs\u001b[0m \u001b[1;33m=\u001b[0m \u001b[1;36m30\u001b[0m\u001b[1;33m,\u001b[0m \u001b[0mbatch_size\u001b[0m \u001b[1;33m=\u001b[0m \u001b[1;36m30\u001b[0m\u001b[1;33m,\u001b[0m\u001b[1;33m\u001b[0m\u001b[1;33m\u001b[0m\u001b[0m\n\u001b[0;32m      3\u001b[0m                     \u001b[0mshuffle\u001b[0m\u001b[1;33m=\u001b[0m\u001b[1;32mFalse\u001b[0m\u001b[1;33m,\u001b[0m \u001b[0mcallbacks\u001b[0m\u001b[1;33m=\u001b[0m\u001b[1;33m[\u001b[0m\u001b[0mtensorboard_callback\u001b[0m\u001b[1;33m,\u001b[0m\u001b[0mes_callback\u001b[0m\u001b[1;33m]\u001b[0m\u001b[1;33m,\u001b[0m\u001b[1;33m\u001b[0m\u001b[1;33m\u001b[0m\u001b[0m\n\u001b[1;32m----> 4\u001b[1;33m                    validation_data = (X_val_indices, Y_val) )\n\u001b[0m",
      "\u001b[1;32m~\\Anaconda3\\envs\\sentiment_analysis\\lib\\site-packages\\tensorflow_core\\python\\keras\\engine\\training.py\u001b[0m in \u001b[0;36mfit\u001b[1;34m(self, x, y, batch_size, epochs, verbose, callbacks, validation_split, validation_data, shuffle, class_weight, sample_weight, initial_epoch, steps_per_epoch, validation_steps, validation_freq, max_queue_size, workers, use_multiprocessing, **kwargs)\u001b[0m\n\u001b[0;32m    817\u001b[0m         \u001b[0mmax_queue_size\u001b[0m\u001b[1;33m=\u001b[0m\u001b[0mmax_queue_size\u001b[0m\u001b[1;33m,\u001b[0m\u001b[1;33m\u001b[0m\u001b[1;33m\u001b[0m\u001b[0m\n\u001b[0;32m    818\u001b[0m         \u001b[0mworkers\u001b[0m\u001b[1;33m=\u001b[0m\u001b[0mworkers\u001b[0m\u001b[1;33m,\u001b[0m\u001b[1;33m\u001b[0m\u001b[1;33m\u001b[0m\u001b[0m\n\u001b[1;32m--> 819\u001b[1;33m         use_multiprocessing=use_multiprocessing)\n\u001b[0m\u001b[0;32m    820\u001b[0m \u001b[1;33m\u001b[0m\u001b[0m\n\u001b[0;32m    821\u001b[0m   def evaluate(self,\n",
      "\u001b[1;32m~\\Anaconda3\\envs\\sentiment_analysis\\lib\\site-packages\\tensorflow_core\\python\\keras\\engine\\training_v2.py\u001b[0m in \u001b[0;36mfit\u001b[1;34m(self, model, x, y, batch_size, epochs, verbose, callbacks, validation_split, validation_data, shuffle, class_weight, sample_weight, initial_epoch, steps_per_epoch, validation_steps, validation_freq, max_queue_size, workers, use_multiprocessing, **kwargs)\u001b[0m\n\u001b[0;32m    340\u001b[0m                 \u001b[0mmode\u001b[0m\u001b[1;33m=\u001b[0m\u001b[0mModeKeys\u001b[0m\u001b[1;33m.\u001b[0m\u001b[0mTRAIN\u001b[0m\u001b[1;33m,\u001b[0m\u001b[1;33m\u001b[0m\u001b[1;33m\u001b[0m\u001b[0m\n\u001b[0;32m    341\u001b[0m                 \u001b[0mtraining_context\u001b[0m\u001b[1;33m=\u001b[0m\u001b[0mtraining_context\u001b[0m\u001b[1;33m,\u001b[0m\u001b[1;33m\u001b[0m\u001b[1;33m\u001b[0m\u001b[0m\n\u001b[1;32m--> 342\u001b[1;33m                 total_epochs=epochs)\n\u001b[0m\u001b[0;32m    343\u001b[0m             \u001b[0mcbks\u001b[0m\u001b[1;33m.\u001b[0m\u001b[0mmake_logs\u001b[0m\u001b[1;33m(\u001b[0m\u001b[0mmodel\u001b[0m\u001b[1;33m,\u001b[0m \u001b[0mepoch_logs\u001b[0m\u001b[1;33m,\u001b[0m \u001b[0mtraining_result\u001b[0m\u001b[1;33m,\u001b[0m \u001b[0mModeKeys\u001b[0m\u001b[1;33m.\u001b[0m\u001b[0mTRAIN\u001b[0m\u001b[1;33m)\u001b[0m\u001b[1;33m\u001b[0m\u001b[1;33m\u001b[0m\u001b[0m\n\u001b[0;32m    344\u001b[0m \u001b[1;33m\u001b[0m\u001b[0m\n",
      "\u001b[1;32m~\\Anaconda3\\envs\\sentiment_analysis\\lib\\site-packages\\tensorflow_core\\python\\keras\\engine\\training_v2.py\u001b[0m in \u001b[0;36mrun_one_epoch\u001b[1;34m(model, iterator, execution_function, dataset_size, batch_size, strategy, steps_per_epoch, num_samples, mode, training_context, total_epochs)\u001b[0m\n\u001b[0;32m    126\u001b[0m         step=step, mode=mode, size=current_batch_size) as batch_logs:\n\u001b[0;32m    127\u001b[0m       \u001b[1;32mtry\u001b[0m\u001b[1;33m:\u001b[0m\u001b[1;33m\u001b[0m\u001b[1;33m\u001b[0m\u001b[0m\n\u001b[1;32m--> 128\u001b[1;33m         \u001b[0mbatch_outs\u001b[0m \u001b[1;33m=\u001b[0m \u001b[0mexecution_function\u001b[0m\u001b[1;33m(\u001b[0m\u001b[0miterator\u001b[0m\u001b[1;33m)\u001b[0m\u001b[1;33m\u001b[0m\u001b[1;33m\u001b[0m\u001b[0m\n\u001b[0m\u001b[0;32m    129\u001b[0m       \u001b[1;32mexcept\u001b[0m \u001b[1;33m(\u001b[0m\u001b[0mStopIteration\u001b[0m\u001b[1;33m,\u001b[0m \u001b[0merrors\u001b[0m\u001b[1;33m.\u001b[0m\u001b[0mOutOfRangeError\u001b[0m\u001b[1;33m)\u001b[0m\u001b[1;33m:\u001b[0m\u001b[1;33m\u001b[0m\u001b[1;33m\u001b[0m\u001b[0m\n\u001b[0;32m    130\u001b[0m         \u001b[1;31m# TODO(kaftan): File bug about tf function and errors.OutOfRangeError?\u001b[0m\u001b[1;33m\u001b[0m\u001b[1;33m\u001b[0m\u001b[1;33m\u001b[0m\u001b[0m\n",
      "\u001b[1;32m~\\Anaconda3\\envs\\sentiment_analysis\\lib\\site-packages\\tensorflow_core\\python\\keras\\engine\\training_v2_utils.py\u001b[0m in \u001b[0;36mexecution_function\u001b[1;34m(input_fn)\u001b[0m\n\u001b[0;32m     96\u001b[0m     \u001b[1;31m# `numpy` translates Tensors to values in Eager mode.\u001b[0m\u001b[1;33m\u001b[0m\u001b[1;33m\u001b[0m\u001b[1;33m\u001b[0m\u001b[0m\n\u001b[0;32m     97\u001b[0m     return nest.map_structure(_non_none_constant_value,\n\u001b[1;32m---> 98\u001b[1;33m                               distributed_function(input_fn))\n\u001b[0m\u001b[0;32m     99\u001b[0m \u001b[1;33m\u001b[0m\u001b[0m\n\u001b[0;32m    100\u001b[0m   \u001b[1;32mreturn\u001b[0m \u001b[0mexecution_function\u001b[0m\u001b[1;33m\u001b[0m\u001b[1;33m\u001b[0m\u001b[0m\n",
      "\u001b[1;32m~\\Anaconda3\\envs\\sentiment_analysis\\lib\\site-packages\\tensorflow_core\\python\\eager\\def_function.py\u001b[0m in \u001b[0;36m__call__\u001b[1;34m(self, *args, **kwds)\u001b[0m\n\u001b[0;32m    566\u001b[0m         \u001b[0mxla_context\u001b[0m\u001b[1;33m.\u001b[0m\u001b[0mExit\u001b[0m\u001b[1;33m(\u001b[0m\u001b[1;33m)\u001b[0m\u001b[1;33m\u001b[0m\u001b[1;33m\u001b[0m\u001b[0m\n\u001b[0;32m    567\u001b[0m     \u001b[1;32melse\u001b[0m\u001b[1;33m:\u001b[0m\u001b[1;33m\u001b[0m\u001b[1;33m\u001b[0m\u001b[0m\n\u001b[1;32m--> 568\u001b[1;33m       \u001b[0mresult\u001b[0m \u001b[1;33m=\u001b[0m \u001b[0mself\u001b[0m\u001b[1;33m.\u001b[0m\u001b[0m_call\u001b[0m\u001b[1;33m(\u001b[0m\u001b[1;33m*\u001b[0m\u001b[0margs\u001b[0m\u001b[1;33m,\u001b[0m \u001b[1;33m**\u001b[0m\u001b[0mkwds\u001b[0m\u001b[1;33m)\u001b[0m\u001b[1;33m\u001b[0m\u001b[1;33m\u001b[0m\u001b[0m\n\u001b[0m\u001b[0;32m    569\u001b[0m \u001b[1;33m\u001b[0m\u001b[0m\n\u001b[0;32m    570\u001b[0m     \u001b[1;32mif\u001b[0m \u001b[0mtracing_count\u001b[0m \u001b[1;33m==\u001b[0m \u001b[0mself\u001b[0m\u001b[1;33m.\u001b[0m\u001b[0m_get_tracing_count\u001b[0m\u001b[1;33m(\u001b[0m\u001b[1;33m)\u001b[0m\u001b[1;33m:\u001b[0m\u001b[1;33m\u001b[0m\u001b[1;33m\u001b[0m\u001b[0m\n",
      "\u001b[1;32m~\\Anaconda3\\envs\\sentiment_analysis\\lib\\site-packages\\tensorflow_core\\python\\eager\\def_function.py\u001b[0m in \u001b[0;36m_call\u001b[1;34m(self, *args, **kwds)\u001b[0m\n\u001b[0;32m    597\u001b[0m       \u001b[1;31m# In this case we have created variables on the first call, so we run the\u001b[0m\u001b[1;33m\u001b[0m\u001b[1;33m\u001b[0m\u001b[1;33m\u001b[0m\u001b[0m\n\u001b[0;32m    598\u001b[0m       \u001b[1;31m# defunned version which is guaranteed to never create variables.\u001b[0m\u001b[1;33m\u001b[0m\u001b[1;33m\u001b[0m\u001b[1;33m\u001b[0m\u001b[0m\n\u001b[1;32m--> 599\u001b[1;33m       \u001b[1;32mreturn\u001b[0m \u001b[0mself\u001b[0m\u001b[1;33m.\u001b[0m\u001b[0m_stateless_fn\u001b[0m\u001b[1;33m(\u001b[0m\u001b[1;33m*\u001b[0m\u001b[0margs\u001b[0m\u001b[1;33m,\u001b[0m \u001b[1;33m**\u001b[0m\u001b[0mkwds\u001b[0m\u001b[1;33m)\u001b[0m  \u001b[1;31m# pylint: disable=not-callable\u001b[0m\u001b[1;33m\u001b[0m\u001b[1;33m\u001b[0m\u001b[0m\n\u001b[0m\u001b[0;32m    600\u001b[0m     \u001b[1;32melif\u001b[0m \u001b[0mself\u001b[0m\u001b[1;33m.\u001b[0m\u001b[0m_stateful_fn\u001b[0m \u001b[1;32mis\u001b[0m \u001b[1;32mnot\u001b[0m \u001b[1;32mNone\u001b[0m\u001b[1;33m:\u001b[0m\u001b[1;33m\u001b[0m\u001b[1;33m\u001b[0m\u001b[0m\n\u001b[0;32m    601\u001b[0m       \u001b[1;31m# Release the lock early so that multiple threads can perform the call\u001b[0m\u001b[1;33m\u001b[0m\u001b[1;33m\u001b[0m\u001b[1;33m\u001b[0m\u001b[0m\n",
      "\u001b[1;32m~\\Anaconda3\\envs\\sentiment_analysis\\lib\\site-packages\\tensorflow_core\\python\\eager\\function.py\u001b[0m in \u001b[0;36m__call__\u001b[1;34m(self, *args, **kwargs)\u001b[0m\n\u001b[0;32m   2361\u001b[0m     \u001b[1;32mwith\u001b[0m \u001b[0mself\u001b[0m\u001b[1;33m.\u001b[0m\u001b[0m_lock\u001b[0m\u001b[1;33m:\u001b[0m\u001b[1;33m\u001b[0m\u001b[1;33m\u001b[0m\u001b[0m\n\u001b[0;32m   2362\u001b[0m       \u001b[0mgraph_function\u001b[0m\u001b[1;33m,\u001b[0m \u001b[0margs\u001b[0m\u001b[1;33m,\u001b[0m \u001b[0mkwargs\u001b[0m \u001b[1;33m=\u001b[0m \u001b[0mself\u001b[0m\u001b[1;33m.\u001b[0m\u001b[0m_maybe_define_function\u001b[0m\u001b[1;33m(\u001b[0m\u001b[0margs\u001b[0m\u001b[1;33m,\u001b[0m \u001b[0mkwargs\u001b[0m\u001b[1;33m)\u001b[0m\u001b[1;33m\u001b[0m\u001b[1;33m\u001b[0m\u001b[0m\n\u001b[1;32m-> 2363\u001b[1;33m     \u001b[1;32mreturn\u001b[0m \u001b[0mgraph_function\u001b[0m\u001b[1;33m.\u001b[0m\u001b[0m_filtered_call\u001b[0m\u001b[1;33m(\u001b[0m\u001b[0margs\u001b[0m\u001b[1;33m,\u001b[0m \u001b[0mkwargs\u001b[0m\u001b[1;33m)\u001b[0m  \u001b[1;31m# pylint: disable=protected-access\u001b[0m\u001b[1;33m\u001b[0m\u001b[1;33m\u001b[0m\u001b[0m\n\u001b[0m\u001b[0;32m   2364\u001b[0m \u001b[1;33m\u001b[0m\u001b[0m\n\u001b[0;32m   2365\u001b[0m   \u001b[1;33m@\u001b[0m\u001b[0mproperty\u001b[0m\u001b[1;33m\u001b[0m\u001b[1;33m\u001b[0m\u001b[0m\n",
      "\u001b[1;32m~\\Anaconda3\\envs\\sentiment_analysis\\lib\\site-packages\\tensorflow_core\\python\\eager\\function.py\u001b[0m in \u001b[0;36m_filtered_call\u001b[1;34m(self, args, kwargs)\u001b[0m\n\u001b[0;32m   1609\u001b[0m          if isinstance(t, (ops.Tensor,\n\u001b[0;32m   1610\u001b[0m                            resource_variable_ops.BaseResourceVariable))),\n\u001b[1;32m-> 1611\u001b[1;33m         self.captured_inputs)\n\u001b[0m\u001b[0;32m   1612\u001b[0m \u001b[1;33m\u001b[0m\u001b[0m\n\u001b[0;32m   1613\u001b[0m   \u001b[1;32mdef\u001b[0m \u001b[0m_call_flat\u001b[0m\u001b[1;33m(\u001b[0m\u001b[0mself\u001b[0m\u001b[1;33m,\u001b[0m \u001b[0margs\u001b[0m\u001b[1;33m,\u001b[0m \u001b[0mcaptured_inputs\u001b[0m\u001b[1;33m,\u001b[0m \u001b[0mcancellation_manager\u001b[0m\u001b[1;33m=\u001b[0m\u001b[1;32mNone\u001b[0m\u001b[1;33m)\u001b[0m\u001b[1;33m:\u001b[0m\u001b[1;33m\u001b[0m\u001b[1;33m\u001b[0m\u001b[0m\n",
      "\u001b[1;32m~\\Anaconda3\\envs\\sentiment_analysis\\lib\\site-packages\\tensorflow_core\\python\\eager\\function.py\u001b[0m in \u001b[0;36m_call_flat\u001b[1;34m(self, args, captured_inputs, cancellation_manager)\u001b[0m\n\u001b[0;32m   1690\u001b[0m       \u001b[1;31m# No tape is watching; skip to running the function.\u001b[0m\u001b[1;33m\u001b[0m\u001b[1;33m\u001b[0m\u001b[1;33m\u001b[0m\u001b[0m\n\u001b[0;32m   1691\u001b[0m       return self._build_call_outputs(self._inference_function.call(\n\u001b[1;32m-> 1692\u001b[1;33m           ctx, args, cancellation_manager=cancellation_manager))\n\u001b[0m\u001b[0;32m   1693\u001b[0m     forward_backward = self._select_forward_and_backward_functions(\n\u001b[0;32m   1694\u001b[0m         \u001b[0margs\u001b[0m\u001b[1;33m,\u001b[0m\u001b[1;33m\u001b[0m\u001b[1;33m\u001b[0m\u001b[0m\n",
      "\u001b[1;32m~\\Anaconda3\\envs\\sentiment_analysis\\lib\\site-packages\\tensorflow_core\\python\\eager\\function.py\u001b[0m in \u001b[0;36mcall\u001b[1;34m(self, ctx, args, cancellation_manager)\u001b[0m\n\u001b[0;32m    543\u001b[0m               \u001b[0minputs\u001b[0m\u001b[1;33m=\u001b[0m\u001b[0margs\u001b[0m\u001b[1;33m,\u001b[0m\u001b[1;33m\u001b[0m\u001b[1;33m\u001b[0m\u001b[0m\n\u001b[0;32m    544\u001b[0m               \u001b[0mattrs\u001b[0m\u001b[1;33m=\u001b[0m\u001b[1;33m(\u001b[0m\u001b[1;34m\"executor_type\"\u001b[0m\u001b[1;33m,\u001b[0m \u001b[0mexecutor_type\u001b[0m\u001b[1;33m,\u001b[0m \u001b[1;34m\"config_proto\"\u001b[0m\u001b[1;33m,\u001b[0m \u001b[0mconfig\u001b[0m\u001b[1;33m)\u001b[0m\u001b[1;33m,\u001b[0m\u001b[1;33m\u001b[0m\u001b[1;33m\u001b[0m\u001b[0m\n\u001b[1;32m--> 545\u001b[1;33m               ctx=ctx)\n\u001b[0m\u001b[0;32m    546\u001b[0m         \u001b[1;32melse\u001b[0m\u001b[1;33m:\u001b[0m\u001b[1;33m\u001b[0m\u001b[1;33m\u001b[0m\u001b[0m\n\u001b[0;32m    547\u001b[0m           outputs = execute.execute_with_cancellation(\n",
      "\u001b[1;32m~\\Anaconda3\\envs\\sentiment_analysis\\lib\\site-packages\\tensorflow_core\\python\\eager\\execute.py\u001b[0m in \u001b[0;36mquick_execute\u001b[1;34m(op_name, num_outputs, inputs, attrs, ctx, name)\u001b[0m\n\u001b[0;32m     59\u001b[0m     tensors = pywrap_tensorflow.TFE_Py_Execute(ctx._handle, device_name,\n\u001b[0;32m     60\u001b[0m                                                \u001b[0mop_name\u001b[0m\u001b[1;33m,\u001b[0m \u001b[0minputs\u001b[0m\u001b[1;33m,\u001b[0m \u001b[0mattrs\u001b[0m\u001b[1;33m,\u001b[0m\u001b[1;33m\u001b[0m\u001b[1;33m\u001b[0m\u001b[0m\n\u001b[1;32m---> 61\u001b[1;33m                                                num_outputs)\n\u001b[0m\u001b[0;32m     62\u001b[0m   \u001b[1;32mexcept\u001b[0m \u001b[0mcore\u001b[0m\u001b[1;33m.\u001b[0m\u001b[0m_NotOkStatusException\u001b[0m \u001b[1;32mas\u001b[0m \u001b[0me\u001b[0m\u001b[1;33m:\u001b[0m\u001b[1;33m\u001b[0m\u001b[1;33m\u001b[0m\u001b[0m\n\u001b[0;32m     63\u001b[0m     \u001b[1;32mif\u001b[0m \u001b[0mname\u001b[0m \u001b[1;32mis\u001b[0m \u001b[1;32mnot\u001b[0m \u001b[1;32mNone\u001b[0m\u001b[1;33m:\u001b[0m\u001b[1;33m\u001b[0m\u001b[1;33m\u001b[0m\u001b[0m\n",
      "\u001b[1;31mKeyboardInterrupt\u001b[0m: "
     ]
    }
   ],
   "source": [
    "history = model.fit(X_train_indices, Y_train,\n",
    "                    epochs = 30, batch_size = 30,\n",
    "                    shuffle=True, callbacks=[tensorboard_callback,es_callback],\n",
    "                   validation_data = (X_val_indices, Y_val) )"
   ]
  },
  {
   "cell_type": "code",
   "execution_count": 84,
   "metadata": {},
   "outputs": [
    {
     "name": "stdout",
     "output_type": "stream",
     "text": [
      "4198/4198 [==============================] - 5s 1ms/sample - loss: 0.4697 - accuracy: 0.8283\n",
      "\n",
      "Test accuracy =  0.82825154\n"
     ]
    }
   ],
   "source": [
    "X_test_indices = sentences_to_indices(X_test, word_to_index, max_features)\n",
    "Y_test_OH = to_categorical(Y_test)\n",
    "loss, acc = model.evaluate(X_test_indices, Y_test)\n",
    "print()\n",
    "print(\"Test accuracy = \", acc)"
   ]
  },
  {
   "cell_type": "code",
   "execution_count": 91,
   "metadata": {},
   "outputs": [
    {
     "data": {
      "image/png": "[encoded data removed]",
      "text/plain": [
       "<Figure size 432x288 with 1 Axes>"
      ]
     },
     "metadata": {
      "needs_background": "light"
     },
     "output_type": "display_data"
    },
    {
     "data": {
      "image/png": "[encoded data removed]",
      "text/plain": [
       "<Figure size 432x288 with 1 Axes>"
      ]
     },
     "metadata": {
      "needs_background": "light"
     },
     "output_type": "display_data"
    }
   ],
   "source": [
    "plt.plot(history.history['accuracy'])\n",
    "plt.plot(history.history['val_accuracy'])\n",
    "plt.title('model accuracy')\n",
    "plt.ylabel('accuracy')\n",
    "plt.xlabel('epoch')\n",
    "plt.legend(['train','test'], loc='upper left')\n",
    "plt.show()\n",
    "# plt.savefig('notebook/overfitting_accuracy.png')\n",
    "\n",
    "plt.plot(history.history['loss'])\n",
    "plt.plot(history.history['val_loss'])\n",
    "plt.title('model loss')\n",
    "plt.ylabel('loss')\n",
    "plt.xlabel('epoch')\n",
    "plt.legend(['train','test'], loc='upper left')\n",
    "plt.show()\n",
    "\n",
    "# plt.savefig('notebook/overfitting_loss.png')"
   ]
  },
  {
   "cell_type": "code",
   "execution_count": 1,
   "metadata": {},
   "outputs": [
    {
     "ename": "NameError",
     "evalue": "name 'np' is not defined",
     "output_type": "error",
     "traceback": [
      "\u001b[1;31m---------------------------------------------------------------------------\u001b[0m",
      "\u001b[1;31mNameError\u001b[0m                                 Traceback (most recent call last)",
      "\u001b[1;32m<ipython-input-1-a19290b407ad>\u001b[0m in \u001b[0;36m<module>\u001b[1;34m\u001b[0m\n\u001b[1;32m----> 1\u001b[1;33m \u001b[0mtwt\u001b[0m \u001b[1;33m=\u001b[0m \u001b[0mnp\u001b[0m\u001b[1;33m.\u001b[0m\u001b[0marray\u001b[0m\u001b[1;33m(\u001b[0m\u001b[1;33m[\u001b[0m\u001b[1;34m'it is very  good'\u001b[0m\u001b[1;33m,\u001b[0m\u001b[1;34m'bad but good'\u001b[0m\u001b[1;33m]\u001b[0m\u001b[1;33m)\u001b[0m\u001b[1;33m\u001b[0m\u001b[1;33m\u001b[0m\u001b[0m\n\u001b[0m\u001b[0;32m      2\u001b[0m \u001b[0mtwt_indices\u001b[0m \u001b[1;33m=\u001b[0m \u001b[0msentences_to_indices\u001b[0m\u001b[1;33m(\u001b[0m\u001b[0mtwt\u001b[0m\u001b[1;33m,\u001b[0m \u001b[0mword_to_index\u001b[0m\u001b[1;33m,\u001b[0m \u001b[0mmax_features\u001b[0m\u001b[1;33m)\u001b[0m\u001b[1;33m\u001b[0m\u001b[1;33m\u001b[0m\u001b[0m\n\u001b[0;32m      3\u001b[0m \u001b[0mmodel\u001b[0m\u001b[1;33m.\u001b[0m\u001b[0mpredict\u001b[0m\u001b[1;33m(\u001b[0m\u001b[0mtwt_indices\u001b[0m\u001b[1;33m,\u001b[0m\u001b[0mbatch_size\u001b[0m\u001b[1;33m=\u001b[0m\u001b[1;36m1\u001b[0m\u001b[1;33m,\u001b[0m\u001b[0mverbose\u001b[0m \u001b[1;33m=\u001b[0m \u001b[1;36m2\u001b[0m\u001b[1;33m)\u001b[0m\u001b[1;33m[\u001b[0m\u001b[1;36m1\u001b[0m\u001b[1;33m]\u001b[0m\u001b[1;33m\u001b[0m\u001b[1;33m\u001b[0m\u001b[0m\n\u001b[0;32m      4\u001b[0m \u001b[1;31m# print(sentiment)\u001b[0m\u001b[1;33m\u001b[0m\u001b[1;33m\u001b[0m\u001b[1;33m\u001b[0m\u001b[0m\n",
      "\u001b[1;31mNameError\u001b[0m: name 'np' is not defined"
     ]
    }
   ],
   "source": [
    "twt = np.array(['it is very  good','bad but good'])\n",
    "twt_indices = sentences_to_indices(twt, word_to_index, max_features)\n",
    "model.predict(twt_indices,batch_size=1,verbose = 2)[1]\n",
    "# print(sentiment)"
   ]
  },
  {
   "cell_type": "code",
   "execution_count": null,
   "metadata": {},
   "outputs": [],
   "source": []
  }
 ],
 "metadata": {
  "kernelspec": {
   "display_name": "Python 3",
   "language": "python",
   "name": "python3"
  },
  "language_info": {
   "codemirror_mode": {
    "name": "ipython",
    "version": 3
   },
   "file_extension": ".py",
   "mimetype": "text/x-python",
   "name": "python",
   "nbconvert_exporter": "python",
   "pygments_lexer": "ipython3",
   "version": "3.6.10"
  }
 },
 "nbformat": 4,
 "nbformat_minor": 2
}
