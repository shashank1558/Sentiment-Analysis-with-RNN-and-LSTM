{
 "cells": [
  {
   "cell_type": "code",
   "execution_count": 55,
   "metadata": {},
   "outputs": [],
   "source": [
    "import pandas as pd\n",
    "import matplotlib.pyplot as plt\n",
    "import seaborn as sns\n",
    "from collections import Counter\n",
    "%matplotlib inline"
   ]
  },
  {
   "cell_type": "code",
   "execution_count": 76,
   "metadata": {},
   "outputs": [],
   "source": [
    "tweets = pd.read_csv(r'data/tweets.csv')"
   ]
  },
  {
   "cell_type": "code",
   "execution_count": 77,
   "metadata": {},
   "outputs": [
    {
     "data": {
      "text/html": [
       "<div>\n",
       "<style scoped>\n",
       "    .dataframe tbody tr th:only-of-type {\n",
       "        vertical-align: middle;\n",
       "    }\n",
       "\n",
       "    .dataframe tbody tr th {\n",
       "        vertical-align: top;\n",
       "    }\n",
       "\n",
       "    .dataframe thead th {\n",
       "        text-align: right;\n",
       "    }\n",
       "</style>\n",
       "<table border=\"1\" class=\"dataframe\">\n",
       "  <thead>\n",
       "    <tr style=\"text-align: right;\">\n",
       "      <th></th>\n",
       "      <th>id</th>\n",
       "      <th>created_at</th>\n",
       "      <th>sentiment</th>\n",
       "      <th>tweet</th>\n",
       "    </tr>\n",
       "  </thead>\n",
       "  <tbody>\n",
       "    <tr>\n",
       "      <td>0</td>\n",
       "      <td>1280529403915763713</td>\n",
       "      <td>Tue Jul 07 15:49:35 +0000 2020</td>\n",
       "      <td>0</td>\n",
       "      <td>watch them say bp is mocking climate change on...</td>\n",
       "    </tr>\n",
       "    <tr>\n",
       "      <td>1</td>\n",
       "      <td>1280529397783674882</td>\n",
       "      <td>Tue Jul 07 15:49:34 +0000 2020</td>\n",
       "      <td>0</td>\n",
       "      <td>rt  the temperature in siberia is  degrees wil...</td>\n",
       "    </tr>\n",
       "    <tr>\n",
       "      <td>2</td>\n",
       "      <td>1280529392611942400</td>\n",
       "      <td>Tue Jul 07 15:49:32 +0000 2020</td>\n",
       "      <td>1</td>\n",
       "      <td>a survey analysis across five federal agencies...</td>\n",
       "    </tr>\n",
       "    <tr>\n",
       "      <td>3</td>\n",
       "      <td>1280529387625091073</td>\n",
       "      <td>Tue Jul 07 15:49:31 +0000 2020</td>\n",
       "      <td>1</td>\n",
       "      <td>glad to hear that climate change is not real</td>\n",
       "    </tr>\n",
       "    <tr>\n",
       "      <td>4</td>\n",
       "      <td>1280529378753933312</td>\n",
       "      <td>Tue Jul 07 15:49:29 +0000 2020</td>\n",
       "      <td>0</td>\n",
       "      <td>rt  id imagine a biodiversity collapse is far ...</td>\n",
       "    </tr>\n",
       "  </tbody>\n",
       "</table>\n",
       "</div>"
      ],
      "text/plain": [
       "                    id                      created_at  sentiment  \\\n",
       "0  1280529403915763713  Tue Jul 07 15:49:35 +0000 2020          0   \n",
       "1  1280529397783674882  Tue Jul 07 15:49:34 +0000 2020          0   \n",
       "2  1280529392611942400  Tue Jul 07 15:49:32 +0000 2020          1   \n",
       "3  1280529387625091073  Tue Jul 07 15:49:31 +0000 2020          1   \n",
       "4  1280529378753933312  Tue Jul 07 15:49:29 +0000 2020          0   \n",
       "\n",
       "                                               tweet  \n",
       "0  watch them say bp is mocking climate change on...  \n",
       "1  rt  the temperature in siberia is  degrees wil...  \n",
       "2  a survey analysis across five federal agencies...  \n",
       "3       glad to hear that climate change is not real  \n",
       "4  rt  id imagine a biodiversity collapse is far ...  "
      ]
     },
     "execution_count": 77,
     "metadata": {},
     "output_type": "execute_result"
    }
   ],
   "source": [
    "tweets.head(5)"
   ]
  },
  {
   "cell_type": "code",
   "execution_count": 78,
   "metadata": {},
   "outputs": [
    {
     "data": {
      "text/html": [
       "<div>\n",
       "<style scoped>\n",
       "    .dataframe tbody tr th:only-of-type {\n",
       "        vertical-align: middle;\n",
       "    }\n",
       "\n",
       "    .dataframe tbody tr th {\n",
       "        vertical-align: top;\n",
       "    }\n",
       "\n",
       "    .dataframe thead th {\n",
       "        text-align: right;\n",
       "    }\n",
       "</style>\n",
       "<table border=\"1\" class=\"dataframe\">\n",
       "  <thead>\n",
       "    <tr style=\"text-align: right;\">\n",
       "      <th></th>\n",
       "      <th>id</th>\n",
       "      <th>sentiment</th>\n",
       "    </tr>\n",
       "  </thead>\n",
       "  <tbody>\n",
       "    <tr>\n",
       "      <td>count</td>\n",
       "      <td>3.367600e+04</td>\n",
       "      <td>33676.000000</td>\n",
       "    </tr>\n",
       "    <tr>\n",
       "      <td>mean</td>\n",
       "      <td>1.280541e+18</td>\n",
       "      <td>0.455755</td>\n",
       "    </tr>\n",
       "    <tr>\n",
       "      <td>std</td>\n",
       "      <td>5.081469e+13</td>\n",
       "      <td>0.498046</td>\n",
       "    </tr>\n",
       "    <tr>\n",
       "      <td>min</td>\n",
       "      <td>1.280467e+18</td>\n",
       "      <td>0.000000</td>\n",
       "    </tr>\n",
       "    <tr>\n",
       "      <td>25%</td>\n",
       "      <td>1.280511e+18</td>\n",
       "      <td>0.000000</td>\n",
       "    </tr>\n",
       "    <tr>\n",
       "      <td>50%</td>\n",
       "      <td>1.280526e+18</td>\n",
       "      <td>0.000000</td>\n",
       "    </tr>\n",
       "    <tr>\n",
       "      <td>75%</td>\n",
       "      <td>1.280538e+18</td>\n",
       "      <td>1.000000</td>\n",
       "    </tr>\n",
       "    <tr>\n",
       "      <td>max</td>\n",
       "      <td>1.280643e+18</td>\n",
       "      <td>1.000000</td>\n",
       "    </tr>\n",
       "  </tbody>\n",
       "</table>\n",
       "</div>"
      ],
      "text/plain": [
       "                 id     sentiment\n",
       "count  3.367600e+04  33676.000000\n",
       "mean   1.280541e+18      0.455755\n",
       "std    5.081469e+13      0.498046\n",
       "min    1.280467e+18      0.000000\n",
       "25%    1.280511e+18      0.000000\n",
       "50%    1.280526e+18      0.000000\n",
       "75%    1.280538e+18      1.000000\n",
       "max    1.280643e+18      1.000000"
      ]
     },
     "execution_count": 78,
     "metadata": {},
     "output_type": "execute_result"
    }
   ],
   "source": [
    "tweets.describe()"
   ]
  },
  {
   "cell_type": "code",
   "execution_count": 79,
   "metadata": {},
   "outputs": [
    {
     "data": {
      "text/plain": [
       "0    18328\n",
       "1    15348\n",
       "Name: sentiment, dtype: int64"
      ]
     },
     "execution_count": 79,
     "metadata": {},
     "output_type": "execute_result"
    }
   ],
   "source": [
    "tweets['sentiment'].value_counts()"
   ]
  },
  {
   "cell_type": "code",
   "execution_count": 86,
   "metadata": {},
   "outputs": [
    {
     "data": {
      "image/png": "[encoded data removed]",
      "text/plain": [
       "<Figure size 432x288 with 1 Axes>"
      ]
     },
     "metadata": {
      "needs_background": "light"
     },
     "output_type": "display_data"
    }
   ],
   "source": [
    "# Count of positive and negative tweets\n",
    "chart = sns.countplot(x='sentiment',data=tweets, palette='coolwarm', hue='sentiment', dodge=False)\n",
    "plt.legend(loc='best', labels=['Negative', 'Positive'])\n",
    "plt.show(chart)"
   ]
  },
  {
   "cell_type": "code",
   "execution_count": 82,
   "metadata": {},
   "outputs": [],
   "source": [
    "# Storing tokenized tweet and number of words in each tweet \n",
    "tweets['tweet_list'] = tweets['tweet'].apply(lambda x:str(x).split())\n",
    "tweets['num_of_words'] = tweets['tweet'].apply(lambda x:len(str(x).split()))"
   ]
  },
  {
   "cell_type": "code",
   "execution_count": 130,
   "metadata": {},
   "outputs": [
    {
     "data": {
      "text/html": [
       "<style  type=\"text/css\" >\n",
       "    #T_fec75d3a_c24b_11ea_a137_91515b14219frow0_col1 {\n",
       "            background-color:  #08306b;\n",
       "            color:  #f1f1f1;\n",
       "        }    #T_fec75d3a_c24b_11ea_a137_91515b14219frow1_col1 {\n",
       "            background-color:  #0e58a2;\n",
       "            color:  #f1f1f1;\n",
       "        }    #T_fec75d3a_c24b_11ea_a137_91515b14219frow2_col1 {\n",
       "            background-color:  #60a7d2;\n",
       "            color:  #000000;\n",
       "        }    #T_fec75d3a_c24b_11ea_a137_91515b14219frow3_col1 {\n",
       "            background-color:  #87bddc;\n",
       "            color:  #000000;\n",
       "        }    #T_fec75d3a_c24b_11ea_a137_91515b14219frow4_col1 {\n",
       "            background-color:  #99c7e0;\n",
       "            color:  #000000;\n",
       "        }    #T_fec75d3a_c24b_11ea_a137_91515b14219frow5_col1 {\n",
       "            background-color:  #a0cbe2;\n",
       "            color:  #000000;\n",
       "        }    #T_fec75d3a_c24b_11ea_a137_91515b14219frow6_col1 {\n",
       "            background-color:  #a6cee4;\n",
       "            color:  #000000;\n",
       "        }    #T_fec75d3a_c24b_11ea_a137_91515b14219frow7_col1 {\n",
       "            background-color:  #b2d2e8;\n",
       "            color:  #000000;\n",
       "        }    #T_fec75d3a_c24b_11ea_a137_91515b14219frow8_col1 {\n",
       "            background-color:  #d6e6f4;\n",
       "            color:  #000000;\n",
       "        }    #T_fec75d3a_c24b_11ea_a137_91515b14219frow9_col1 {\n",
       "            background-color:  #d7e6f5;\n",
       "            color:  #000000;\n",
       "        }    #T_fec75d3a_c24b_11ea_a137_91515b14219frow10_col1 {\n",
       "            background-color:  #dceaf6;\n",
       "            color:  #000000;\n",
       "        }    #T_fec75d3a_c24b_11ea_a137_91515b14219frow11_col1 {\n",
       "            background-color:  #dfecf7;\n",
       "            color:  #000000;\n",
       "        }    #T_fec75d3a_c24b_11ea_a137_91515b14219frow12_col1 {\n",
       "            background-color:  #e5eff9;\n",
       "            color:  #000000;\n",
       "        }    #T_fec75d3a_c24b_11ea_a137_91515b14219frow13_col1 {\n",
       "            background-color:  #e8f1fa;\n",
       "            color:  #000000;\n",
       "        }    #T_fec75d3a_c24b_11ea_a137_91515b14219frow14_col1 {\n",
       "            background-color:  #e8f1fa;\n",
       "            color:  #000000;\n",
       "        }    #T_fec75d3a_c24b_11ea_a137_91515b14219frow15_col1 {\n",
       "            background-color:  #eaf2fb;\n",
       "            color:  #000000;\n",
       "        }    #T_fec75d3a_c24b_11ea_a137_91515b14219frow16_col1 {\n",
       "            background-color:  #edf4fc;\n",
       "            color:  #000000;\n",
       "        }    #T_fec75d3a_c24b_11ea_a137_91515b14219frow17_col1 {\n",
       "            background-color:  #f2f7fd;\n",
       "            color:  #000000;\n",
       "        }    #T_fec75d3a_c24b_11ea_a137_91515b14219frow18_col1 {\n",
       "            background-color:  #f2f8fd;\n",
       "            color:  #000000;\n",
       "        }    #T_fec75d3a_c24b_11ea_a137_91515b14219frow19_col1 {\n",
       "            background-color:  #f7fbff;\n",
       "            color:  #000000;\n",
       "        }</style><table id=\"T_fec75d3a_c24b_11ea_a137_91515b14219f\" ><thead>    <tr>        <th class=\"blank level0\" ></th>        <th class=\"col_heading level0 col0\" >Common_words</th>        <th class=\"col_heading level0 col1\" >count</th>    </tr></thead><tbody>\n",
       "                <tr>\n",
       "                        <th id=\"T_fec75d3a_c24b_11ea_a137_91515b14219flevel0_row0\" class=\"row_heading level0 row0\" >0</th>\n",
       "                        <td id=\"T_fec75d3a_c24b_11ea_a137_91515b14219frow0_col0\" class=\"data row0 col0\" >the</td>\n",
       "                        <td id=\"T_fec75d3a_c24b_11ea_a137_91515b14219frow0_col1\" class=\"data row0 col1\" >26580</td>\n",
       "            </tr>\n",
       "            <tr>\n",
       "                        <th id=\"T_fec75d3a_c24b_11ea_a137_91515b14219flevel0_row1\" class=\"row_heading level0 row1\" >1</th>\n",
       "                        <td id=\"T_fec75d3a_c24b_11ea_a137_91515b14219frow1_col0\" class=\"data row1 col0\" >rt</td>\n",
       "                        <td id=\"T_fec75d3a_c24b_11ea_a137_91515b14219frow1_col1\" class=\"data row1 col1\" >23079</td>\n",
       "            </tr>\n",
       "            <tr>\n",
       "                        <th id=\"T_fec75d3a_c24b_11ea_a137_91515b14219flevel0_row2\" class=\"row_heading level0 row2\" >2</th>\n",
       "                        <td id=\"T_fec75d3a_c24b_11ea_a137_91515b14219frow2_col0\" class=\"data row2 col0\" >to</td>\n",
       "                        <td id=\"T_fec75d3a_c24b_11ea_a137_91515b14219frow2_col1\" class=\"data row2 col1\" >15911</td>\n",
       "            </tr>\n",
       "            <tr>\n",
       "                        <th id=\"T_fec75d3a_c24b_11ea_a137_91515b14219flevel0_row3\" class=\"row_heading level0 row3\" >3</th>\n",
       "                        <td id=\"T_fec75d3a_c24b_11ea_a137_91515b14219frow3_col0\" class=\"data row3 col0\" >of</td>\n",
       "                        <td id=\"T_fec75d3a_c24b_11ea_a137_91515b14219frow3_col1\" class=\"data row3 col1\" >13534</td>\n",
       "            </tr>\n",
       "            <tr>\n",
       "                        <th id=\"T_fec75d3a_c24b_11ea_a137_91515b14219flevel0_row4\" class=\"row_heading level0 row4\" >4</th>\n",
       "                        <td id=\"T_fec75d3a_c24b_11ea_a137_91515b14219frow4_col0\" class=\"data row4 col0\" >and</td>\n",
       "                        <td id=\"T_fec75d3a_c24b_11ea_a137_91515b14219frow4_col1\" class=\"data row4 col1\" >12615</td>\n",
       "            </tr>\n",
       "            <tr>\n",
       "                        <th id=\"T_fec75d3a_c24b_11ea_a137_91515b14219flevel0_row5\" class=\"row_heading level0 row5\" >5</th>\n",
       "                        <td id=\"T_fec75d3a_c24b_11ea_a137_91515b14219frow5_col0\" class=\"data row5 col0\" >a</td>\n",
       "                        <td id=\"T_fec75d3a_c24b_11ea_a137_91515b14219frow5_col1\" class=\"data row5 col1\" >12167</td>\n",
       "            </tr>\n",
       "            <tr>\n",
       "                        <th id=\"T_fec75d3a_c24b_11ea_a137_91515b14219flevel0_row6\" class=\"row_heading level0 row6\" >6</th>\n",
       "                        <td id=\"T_fec75d3a_c24b_11ea_a137_91515b14219frow6_col0\" class=\"data row6 col0\" >is</td>\n",
       "                        <td id=\"T_fec75d3a_c24b_11ea_a137_91515b14219frow6_col1\" class=\"data row6 col1\" >11730</td>\n",
       "            </tr>\n",
       "            <tr>\n",
       "                        <th id=\"T_fec75d3a_c24b_11ea_a137_91515b14219flevel0_row7\" class=\"row_heading level0 row7\" >7</th>\n",
       "                        <td id=\"T_fec75d3a_c24b_11ea_a137_91515b14219frow7_col0\" class=\"data row7 col0\" >in</td>\n",
       "                        <td id=\"T_fec75d3a_c24b_11ea_a137_91515b14219frow7_col1\" class=\"data row7 col1\" >10914</td>\n",
       "            </tr>\n",
       "            <tr>\n",
       "                        <th id=\"T_fec75d3a_c24b_11ea_a137_91515b14219flevel0_row8\" class=\"row_heading level0 row8\" >8</th>\n",
       "                        <td id=\"T_fec75d3a_c24b_11ea_a137_91515b14219frow8_col0\" class=\"data row8 col0\" >modi</td>\n",
       "                        <td id=\"T_fec75d3a_c24b_11ea_a137_91515b14219frow8_col1\" class=\"data row8 col1\" >7506</td>\n",
       "            </tr>\n",
       "            <tr>\n",
       "                        <th id=\"T_fec75d3a_c24b_11ea_a137_91515b14219flevel0_row9\" class=\"row_heading level0 row9\" >9</th>\n",
       "                        <td id=\"T_fec75d3a_c24b_11ea_a137_91515b14219frow9_col0\" class=\"data row9 col0\" >i</td>\n",
       "                        <td id=\"T_fec75d3a_c24b_11ea_a137_91515b14219frow9_col1\" class=\"data row9 col1\" >7425</td>\n",
       "            </tr>\n",
       "            <tr>\n",
       "                        <th id=\"T_fec75d3a_c24b_11ea_a137_91515b14219flevel0_row10\" class=\"row_heading level0 row10\" >10</th>\n",
       "                        <td id=\"T_fec75d3a_c24b_11ea_a137_91515b14219frow10_col0\" class=\"data row10 col0\" >you</td>\n",
       "                        <td id=\"T_fec75d3a_c24b_11ea_a137_91515b14219frow10_col1\" class=\"data row10 col1\" >6801</td>\n",
       "            </tr>\n",
       "            <tr>\n",
       "                        <th id=\"T_fec75d3a_c24b_11ea_a137_91515b14219flevel0_row11\" class=\"row_heading level0 row11\" >11</th>\n",
       "                        <td id=\"T_fec75d3a_c24b_11ea_a137_91515b14219frow11_col0\" class=\"data row11 col0\" >for</td>\n",
       "                        <td id=\"T_fec75d3a_c24b_11ea_a137_91515b14219frow11_col1\" class=\"data row11 col1\" >6450</td>\n",
       "            </tr>\n",
       "            <tr>\n",
       "                        <th id=\"T_fec75d3a_c24b_11ea_a137_91515b14219flevel0_row12\" class=\"row_heading level0 row12\" >12</th>\n",
       "                        <td id=\"T_fec75d3a_c24b_11ea_a137_91515b14219frow12_col0\" class=\"data row12 col0\" >on</td>\n",
       "                        <td id=\"T_fec75d3a_c24b_11ea_a137_91515b14219frow12_col1\" class=\"data row12 col1\" >5751</td>\n",
       "            </tr>\n",
       "            <tr>\n",
       "                        <th id=\"T_fec75d3a_c24b_11ea_a137_91515b14219flevel0_row13\" class=\"row_heading level0 row13\" >13</th>\n",
       "                        <td id=\"T_fec75d3a_c24b_11ea_a137_91515b14219frow13_col0\" class=\"data row13 col0\" >are</td>\n",
       "                        <td id=\"T_fec75d3a_c24b_11ea_a137_91515b14219frow13_col1\" class=\"data row13 col1\" >5401</td>\n",
       "            </tr>\n",
       "            <tr>\n",
       "                        <th id=\"T_fec75d3a_c24b_11ea_a137_91515b14219flevel0_row14\" class=\"row_heading level0 row14\" >14</th>\n",
       "                        <td id=\"T_fec75d3a_c24b_11ea_a137_91515b14219frow14_col0\" class=\"data row14 col0\" >love</td>\n",
       "                        <td id=\"T_fec75d3a_c24b_11ea_a137_91515b14219frow14_col1\" class=\"data row14 col1\" >5385</td>\n",
       "            </tr>\n",
       "            <tr>\n",
       "                        <th id=\"T_fec75d3a_c24b_11ea_a137_91515b14219flevel0_row15\" class=\"row_heading level0 row15\" >15</th>\n",
       "                        <td id=\"T_fec75d3a_c24b_11ea_a137_91515b14219frow15_col0\" class=\"data row15 col0\" >that</td>\n",
       "                        <td id=\"T_fec75d3a_c24b_11ea_a137_91515b14219frow15_col1\" class=\"data row15 col1\" >5222</td>\n",
       "            </tr>\n",
       "            <tr>\n",
       "                        <th id=\"T_fec75d3a_c24b_11ea_a137_91515b14219flevel0_row16\" class=\"row_heading level0 row16\" >16</th>\n",
       "                        <td id=\"T_fec75d3a_c24b_11ea_a137_91515b14219frow16_col0\" class=\"data row16 col0\" >climate</td>\n",
       "                        <td id=\"T_fec75d3a_c24b_11ea_a137_91515b14219frow16_col1\" class=\"data row16 col1\" >4870</td>\n",
       "            </tr>\n",
       "            <tr>\n",
       "                        <th id=\"T_fec75d3a_c24b_11ea_a137_91515b14219flevel0_row17\" class=\"row_heading level0 row17\" >17</th>\n",
       "                        <td id=\"T_fec75d3a_c24b_11ea_a137_91515b14219frow17_col0\" class=\"data row17 col0\" >change</td>\n",
       "                        <td id=\"T_fec75d3a_c24b_11ea_a137_91515b14219frow17_col1\" class=\"data row17 col1\" >4320</td>\n",
       "            </tr>\n",
       "            <tr>\n",
       "                        <th id=\"T_fec75d3a_c24b_11ea_a137_91515b14219flevel0_row18\" class=\"row_heading level0 row18\" >18</th>\n",
       "                        <td id=\"T_fec75d3a_c24b_11ea_a137_91515b14219frow18_col0\" class=\"data row18 col0\" >with</td>\n",
       "                        <td id=\"T_fec75d3a_c24b_11ea_a137_91515b14219frow18_col1\" class=\"data row18 col1\" >4231</td>\n",
       "            </tr>\n",
       "            <tr>\n",
       "                        <th id=\"T_fec75d3a_c24b_11ea_a137_91515b14219flevel0_row19\" class=\"row_heading level0 row19\" >19</th>\n",
       "                        <td id=\"T_fec75d3a_c24b_11ea_a137_91515b14219frow19_col0\" class=\"data row19 col0\" >this</td>\n",
       "                        <td id=\"T_fec75d3a_c24b_11ea_a137_91515b14219frow19_col1\" class=\"data row19 col1\" >3684</td>\n",
       "            </tr>\n",
       "    </tbody></table>"
      ],
      "text/plain": [
       "<pandas.io.formats.style.Styler at 0x23a26cd1e08>"
      ]
     },
     "execution_count": 130,
     "metadata": {},
     "output_type": "execute_result"
    }
   ],
   "source": [
    "# Create vocabulary\n",
    "vocab_counter = Counter([item for sublist in tweets['tweet_list'] for item in sublist])\n",
    "vocab = list(vocab_counter.keys())\n",
    "\n",
    "# Looking up top 20 words by word count\n",
    "temp = pd.DataFrame(vocab_counter.most_common(20))\n",
    "temp.columns = ['Common_words','count']\n",
    "temp.style.background_gradient(cmap='Blues')"
   ]
  },
  {
   "cell_type": "code",
   "execution_count": 119,
   "metadata": {},
   "outputs": [
    {
     "data": {
      "text/plain": [
       "<seaborn.axisgrid.FacetGrid at 0x23a25e3e488>"
      ]
     },
     "execution_count": 119,
     "metadata": {},
     "output_type": "execute_result"
    },
    {
     "data": {
      "image/png": "[encoded data removed]",
      "text/plain": [
       "<Figure size 720x720 with 1 Axes>"
      ]
     },
     "metadata": {
      "needs_background": "light"
     },
     "output_type": "display_data"
    }
   ],
   "source": [
    "sns.catplot(x='count', y='Common_words',data=temp, palette='coolwarm', kind='bar', height=10, aspect=1, dodge=False)"
   ]
  },
  {
   "cell_type": "code",
   "execution_count": 89,
   "metadata": {},
   "outputs": [
    {
     "data": {
      "text/plain": [
       "67"
      ]
     },
     "execution_count": 89,
     "metadata": {},
     "output_type": "execute_result"
    }
   ],
   "source": [
    "# Maximum number of words in a tweet in our dataset\n",
    "tweets['num_of_words'].max()"
   ]
  },
  {
   "cell_type": "code",
   "execution_count": 120,
   "metadata": {},
   "outputs": [
    {
     "data": {
      "text/html": [
       "<div>\n",
       "<style scoped>\n",
       "    .dataframe tbody tr th:only-of-type {\n",
       "        vertical-align: middle;\n",
       "    }\n",
       "\n",
       "    .dataframe tbody tr th {\n",
       "        vertical-align: top;\n",
       "    }\n",
       "\n",
       "    .dataframe thead th {\n",
       "        text-align: right;\n",
       "    }\n",
       "</style>\n",
       "<table border=\"1\" class=\"dataframe\">\n",
       "  <thead>\n",
       "    <tr style=\"text-align: right;\">\n",
       "      <th></th>\n",
       "      <th>id</th>\n",
       "      <th>created_at</th>\n",
       "      <th>sentiment</th>\n",
       "      <th>tweet</th>\n",
       "      <th>tweet_list</th>\n",
       "      <th>num_of_words</th>\n",
       "    </tr>\n",
       "  </thead>\n",
       "  <tbody>\n",
       "    <tr>\n",
       "      <td>0</td>\n",
       "      <td>1280529403915763713</td>\n",
       "      <td>Tue Jul 07 15:49:35 +0000 2020</td>\n",
       "      <td>0</td>\n",
       "      <td>watch them say bp is mocking climate change on...</td>\n",
       "      <td>[watch, them, say, bp, is, mocking, climate, c...</td>\n",
       "      <td>16</td>\n",
       "    </tr>\n",
       "    <tr>\n",
       "      <td>1</td>\n",
       "      <td>1280529397783674882</td>\n",
       "      <td>Tue Jul 07 15:49:34 +0000 2020</td>\n",
       "      <td>0</td>\n",
       "      <td>rt  the temperature in siberia is  degrees wil...</td>\n",
       "      <td>[rt, the, temperature, in, siberia, is, degree...</td>\n",
       "      <td>23</td>\n",
       "    </tr>\n",
       "    <tr>\n",
       "      <td>2</td>\n",
       "      <td>1280529392611942400</td>\n",
       "      <td>Tue Jul 07 15:49:32 +0000 2020</td>\n",
       "      <td>1</td>\n",
       "      <td>a survey analysis across five federal agencies...</td>\n",
       "      <td>[a, survey, analysis, across, five, federal, a...</td>\n",
       "      <td>34</td>\n",
       "    </tr>\n",
       "    <tr>\n",
       "      <td>3</td>\n",
       "      <td>1280529387625091073</td>\n",
       "      <td>Tue Jul 07 15:49:31 +0000 2020</td>\n",
       "      <td>1</td>\n",
       "      <td>glad to hear that climate change is not real</td>\n",
       "      <td>[glad, to, hear, that, climate, change, is, no...</td>\n",
       "      <td>9</td>\n",
       "    </tr>\n",
       "    <tr>\n",
       "      <td>4</td>\n",
       "      <td>1280529378753933312</td>\n",
       "      <td>Tue Jul 07 15:49:29 +0000 2020</td>\n",
       "      <td>0</td>\n",
       "      <td>rt  id imagine a biodiversity collapse is far ...</td>\n",
       "      <td>[rt, id, imagine, a, biodiversity, collapse, i...</td>\n",
       "      <td>24</td>\n",
       "    </tr>\n",
       "  </tbody>\n",
       "</table>\n",
       "</div>"
      ],
      "text/plain": [
       "                    id                      created_at  sentiment  \\\n",
       "0  1280529403915763713  Tue Jul 07 15:49:35 +0000 2020          0   \n",
       "1  1280529397783674882  Tue Jul 07 15:49:34 +0000 2020          0   \n",
       "2  1280529392611942400  Tue Jul 07 15:49:32 +0000 2020          1   \n",
       "3  1280529387625091073  Tue Jul 07 15:49:31 +0000 2020          1   \n",
       "4  1280529378753933312  Tue Jul 07 15:49:29 +0000 2020          0   \n",
       "\n",
       "                                               tweet  \\\n",
       "0  watch them say bp is mocking climate change on...   \n",
       "1  rt  the temperature in siberia is  degrees wil...   \n",
       "2  a survey analysis across five federal agencies...   \n",
       "3       glad to hear that climate change is not real   \n",
       "4  rt  id imagine a biodiversity collapse is far ...   \n",
       "\n",
       "                                          tweet_list  num_of_words  \n",
       "0  [watch, them, say, bp, is, mocking, climate, c...            16  \n",
       "1  [rt, the, temperature, in, siberia, is, degree...            23  \n",
       "2  [a, survey, analysis, across, five, federal, a...            34  \n",
       "3  [glad, to, hear, that, climate, change, is, no...             9  \n",
       "4  [rt, id, imagine, a, biodiversity, collapse, i...            24  "
      ]
     },
     "execution_count": 120,
     "metadata": {},
     "output_type": "execute_result"
    }
   ],
   "source": [
    "tweets.head(5)"
   ]
  },
  {
   "cell_type": "code",
   "execution_count": 134,
   "metadata": {},
   "outputs": [],
   "source": [
    "def get_word_index_dictionary():\n",
    "    \"\"\" creates word_to_index and index_to_word dictionaries \"\"\"\n",
    "    word_to_index = {}\n",
    "    index_to_word = {}   \n",
    "    for index,word in enumerate(vocab):\n",
    "        word_to_index[word] = index\n",
    "        index_to_word[index] = word   \n",
    "    return word_to_index, index_to_word"
   ]
  },
  {
   "cell_type": "code",
   "execution_count": 137,
   "metadata": {},
   "outputs": [
    {
     "name": "stdout",
     "output_type": "stream",
     "text": [
      "6\n",
      "climate\n"
     ]
    }
   ],
   "source": [
    "# Creating dictionaries to convert text data to numbers and vice versa\n",
    "word_to_index, index_to_word = get_word_index_dictionary()\n",
    "\n",
    "# climate -> 6\n",
    "print(word_to_index.get('climate'))\n",
    "print(index_to_word.get(6))"
   ]
  },
  {
   "cell_type": "code",
   "execution_count": 139,
   "metadata": {},
   "outputs": [
    {
     "ename": "ModuleNotFoundError",
     "evalue": "No module named 'keras'",
     "output_type": "error",
     "traceback": [
      "\u001b[1;31m---------------------------------------------------------------------------\u001b[0m",
      "\u001b[1;31mModuleNotFoundError\u001b[0m                       Traceback (most recent call last)",
      "\u001b[1;32m<ipython-input-139-56660cb109f6>\u001b[0m in \u001b[0;36m<module>\u001b[1;34m\u001b[0m\n\u001b[0;32m      1\u001b[0m \u001b[1;31m# Deep learning:\u001b[0m\u001b[1;33m\u001b[0m\u001b[1;33m\u001b[0m\u001b[1;33m\u001b[0m\u001b[0m\n\u001b[1;32m----> 2\u001b[1;33m \u001b[1;32mfrom\u001b[0m \u001b[0mkeras\u001b[0m\u001b[1;33m.\u001b[0m\u001b[0mmodels\u001b[0m \u001b[1;32mimport\u001b[0m \u001b[0mInput\u001b[0m\u001b[1;33m,\u001b[0m \u001b[0mModel\u001b[0m\u001b[1;33m\u001b[0m\u001b[1;33m\u001b[0m\u001b[0m\n\u001b[0m\u001b[0;32m      3\u001b[0m \u001b[1;32mfrom\u001b[0m \u001b[0mkeras\u001b[0m\u001b[1;33m.\u001b[0m\u001b[0mlayers\u001b[0m \u001b[1;32mimport\u001b[0m \u001b[0mLSTM\u001b[0m\u001b[1;33m,\u001b[0m \u001b[0mDense\u001b[0m\u001b[1;33m,\u001b[0m \u001b[0mEmbedding\u001b[0m\u001b[1;33m,\u001b[0m \u001b[0mconcatenate\u001b[0m\u001b[1;33m,\u001b[0m \u001b[0mDropout\u001b[0m\u001b[1;33m,\u001b[0m \u001b[0mconcatenate\u001b[0m\u001b[1;33m\u001b[0m\u001b[1;33m\u001b[0m\u001b[0m\n\u001b[0;32m      4\u001b[0m \u001b[1;32mfrom\u001b[0m \u001b[0mkeras\u001b[0m\u001b[1;33m.\u001b[0m\u001b[0mlayers\u001b[0m \u001b[1;32mimport\u001b[0m \u001b[0mBidirectional\u001b[0m\u001b[1;33m,\u001b[0m \u001b[0mRNN\u001b[0m\u001b[1;33m\u001b[0m\u001b[1;33m\u001b[0m\u001b[0m\n",
      "\u001b[1;31mModuleNotFoundError\u001b[0m: No module named 'keras'"
     ]
    }
   ],
   "source": [
    "# Deep learning: \n",
    "from keras.models import Input, Model\n",
    "from keras.layers import LSTM, Dense, Embedding, concatenate, Dropout, concatenate\n",
    "from keras.layers import Bidirectional, RNN"
   ]
  },
  {
   "cell_type": "code",
   "execution_count": 140,
   "metadata": {},
   "outputs": [
    {
     "ename": "ModuleNotFoundError",
     "evalue": "No module named 'tensorflow'",
     "output_type": "error",
     "traceback": [
      "\u001b[1;31m---------------------------------------------------------------------------\u001b[0m",
      "\u001b[1;31mModuleNotFoundError\u001b[0m                       Traceback (most recent call last)",
      "\u001b[1;32m<ipython-input-140-d6579f534729>\u001b[0m in \u001b[0;36m<module>\u001b[1;34m\u001b[0m\n\u001b[1;32m----> 1\u001b[1;33m \u001b[1;32mimport\u001b[0m \u001b[0mtensorflow\u001b[0m\u001b[1;33m\u001b[0m\u001b[1;33m\u001b[0m\u001b[0m\n\u001b[0m",
      "\u001b[1;31mModuleNotFoundError\u001b[0m: No module named 'tensorflow'"
     ]
    }
   ],
   "source": [
    "import tensorflow"
   ]
  },
  {
   "cell_type": "code",
   "execution_count": null,
   "metadata": {},
   "outputs": [],
   "source": []
  }
 ],
 "metadata": {
  "kernelspec": {
   "display_name": "Python 3",
   "language": "python",
   "name": "python3"
  },
  "language_info": {
   "codemirror_mode": {
    "name": "ipython",
    "version": 3
   },
   "file_extension": ".py",
   "mimetype": "text/x-python",
   "name": "python",
   "nbconvert_exporter": "python",
   "pygments_lexer": "ipython3",
   "version": "3.7.4"
  }
 },
 "nbformat": 4,
 "nbformat_minor": 2
}
