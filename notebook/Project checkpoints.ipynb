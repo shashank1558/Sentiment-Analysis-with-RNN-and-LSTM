{
 "cells": [
  {
   "cell_type": "markdown",
   "metadata": {},
   "source": [
    "## Checkpoints for project\n",
    "\n",
    "1- ~~Research on different ways to clean twitter data and other data to train for sentiments~~\n",
    "\n",
    "2- ~~Retrieve twitter data~~\n",
    "\n",
    "3- ~~Research on different ways to calculate sentiments~~\n",
    "\n",
    "4- ~~Clean twitter data and analyse sentiments and store in csv~~\n",
    "\n",
    "5- ~~Visualize with pandas~~\n",
    "\n",
    "6- ~~Research on different ways to use word embeddings~~\n",
    "\n",
    "7- ~~Preprocess data for model~~\n",
    "\n",
    "8- ~~Design model~~\n",
    "\n",
    "9- ~~Build model and train on data~~\n",
    "\n",
    "10- ~~Improve model~~\n",
    "\n",
    "11- ~~Run on test data~~\n",
    "\n",
    "12- ~~Visualize results~~\n",
    "\n",
    "13- ~~Find insights from visualization (optional)~~\n",
    "\n",
    "14- Deploy model(Create APIs and frontend)"
   ]
  },
  {
   "cell_type": "code",
   "execution_count": null,
   "metadata": {},
   "outputs": [],
   "source": []
  }
 ],
 "metadata": {
  "kernelspec": {
   "display_name": "Python 3",
   "language": "python",
   "name": "python3"
  },
  "language_info": {
   "codemirror_mode": {
    "name": "ipython",
    "version": 3
   },
   "file_extension": ".py",
   "mimetype": "text/x-python",
   "name": "python",
   "nbconvert_exporter": "python",
   "pygments_lexer": "ipython3",
   "version": "3.7.4"
  }
 },
 "nbformat": 4,
 "nbformat_minor": 2
}