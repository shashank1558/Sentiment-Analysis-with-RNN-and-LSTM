{
 "cells": [
  {
   "cell_type": "code",
   "execution_count": 1,
   "metadata": {},
   "outputs": [],
   "source": [
    "import pandas as pd\n",
    "import matplotlib.pyplot as plt\n",
    "import seaborn as sns\n",
    "from collections import Counter\n",
    "%matplotlib inline"
   ]
  },
  {
   "cell_type": "code",
   "execution_count": 2,
   "metadata": {},
   "outputs": [
    {
     "name": "stdout",
     "output_type": "stream",
     "text": [
      "['C:\\\\Users\\\\shash\\\\Anaconda3\\\\envs\\\\sentiment_analysis\\\\python36.zip', 'C:\\\\Users\\\\shash\\\\Anaconda3\\\\envs\\\\sentiment_analysis\\\\DLLs', 'C:\\\\Users\\\\shash\\\\Anaconda3\\\\envs\\\\sentiment_analysis\\\\lib', 'C:\\\\Users\\\\shash\\\\Anaconda3\\\\envs\\\\sentiment_analysis', '', 'C:\\\\Users\\\\shash\\\\Anaconda3\\\\envs\\\\sentiment_analysis\\\\lib\\\\site-packages', 'C:\\\\Users\\\\shash\\\\Downloads\\\\Sentiment-Analysis-with-RNN-and-LSTM\\\\setup.py', 'c:\\\\users\\\\shash\\\\downloads\\\\sentiment-analysis-with-rnn-and-lstm', 'C:\\\\Users\\\\shash\\\\Anaconda3\\\\envs\\\\sentiment_analysis\\\\lib\\\\site-packages\\\\win32', 'C:\\\\Users\\\\shash\\\\Anaconda3\\\\envs\\\\sentiment_analysis\\\\lib\\\\site-packages\\\\win32\\\\lib', 'C:\\\\Users\\\\shash\\\\Anaconda3\\\\envs\\\\sentiment_analysis\\\\lib\\\\site-packages\\\\Pythonwin', 'C:\\\\Users\\\\shash\\\\Anaconda3\\\\envs\\\\sentiment_analysis\\\\lib\\\\site-packages\\\\IPython\\\\extensions', 'C:\\\\Users\\\\shash\\\\.ipython', 'C:\\\\Users\\\\shash\\\\Downloads\\\\Sentiment-Analysis-with-RNN-and-LSTM\\\\data']\n"
     ]
    }
   ],
   "source": [
    "# Solution to import from another directory\n",
    "import sys\n",
    "import os\n",
    "\n",
    "# Ignoring system gpu\n",
    "os.environ['CUDA_VISIBLE_DEVICES'] = '-1'\n",
    "\n",
    "module_path = os.path.abspath(os.path.join(\"..\"))\n",
    "if module_path not in sys.path:\n",
    "    sys.path.append(module_path+\"\\\\data\")\n",
    "\n",
    "print(sys.path)"
   ]
  },
  {
   "cell_type": "code",
   "execution_count": 3,
   "metadata": {},
   "outputs": [],
   "source": [
    "os.chdir(module_path)\n",
    "tweets = pd.read_csv('data/tweets_improved.csv')"
   ]
  },
  {
   "cell_type": "markdown",
   "metadata": {},
   "source": [
    "# Let's explore our data"
   ]
  },
  {
   "cell_type": "code",
   "execution_count": 4,
   "metadata": {},
   "outputs": [
    {
     "data": {
      "text/html": [
       "<div>\n",
       "<style scoped>\n",
       "    .dataframe tbody tr th:only-of-type {\n",
       "        vertical-align: middle;\n",
       "    }\n",
       "\n",
       "    .dataframe tbody tr th {\n",
       "        vertical-align: top;\n",
       "    }\n",
       "\n",
       "    .dataframe thead th {\n",
       "        text-align: right;\n",
       "    }\n",
       "</style>\n",
       "<table border=\"1\" class=\"dataframe\">\n",
       "  <thead>\n",
       "    <tr style=\"text-align: right;\">\n",
       "      <th></th>\n",
       "      <th>id</th>\n",
       "      <th>created_at</th>\n",
       "      <th>sentiment</th>\n",
       "      <th>tweet</th>\n",
       "    </tr>\n",
       "  </thead>\n",
       "  <tbody>\n",
       "    <tr>\n",
       "      <th>0</th>\n",
       "      <td>1282890679350439936</td>\n",
       "      <td>Tue Jul 14 04:12:27 +0000 2020</td>\n",
       "      <td>0</td>\n",
       "      <td>i think what theyre getting at though poorly c...</td>\n",
       "    </tr>\n",
       "    <tr>\n",
       "      <th>1</th>\n",
       "      <td>1282890574383677441</td>\n",
       "      <td>Tue Jul 14 04:12:02 +0000 2020</td>\n",
       "      <td>0</td>\n",
       "      <td>climate change is importantwe know thatbut we ...</td>\n",
       "    </tr>\n",
       "    <tr>\n",
       "      <th>2</th>\n",
       "      <td>1282890565592416256</td>\n",
       "      <td>Tue Jul 14 04:12:00 +0000 2020</td>\n",
       "      <td>0</td>\n",
       "      <td>how to green the worlds deserts and reverse cl...</td>\n",
       "    </tr>\n",
       "    <tr>\n",
       "      <th>3</th>\n",
       "      <td>1282890564703313921</td>\n",
       "      <td>Tue Jul 14 04:12:00 +0000 2020</td>\n",
       "      <td>0</td>\n",
       "      <td>minigrids could help take on  climatechange wh...</td>\n",
       "    </tr>\n",
       "    <tr>\n",
       "      <th>4</th>\n",
       "      <td>1282890534634156032</td>\n",
       "      <td>Tue Jul 14 04:11:53 +0000 2020</td>\n",
       "      <td>1</td>\n",
       "      <td>and antique representative hosts the show and...</td>\n",
       "    </tr>\n",
       "  </tbody>\n",
       "</table>\n",
       "</div>"
      ],
      "text/plain": [
       "                    id                      created_at  sentiment  \\\n",
       "0  1282890679350439936  Tue Jul 14 04:12:27 +0000 2020          0   \n",
       "1  1282890574383677441  Tue Jul 14 04:12:02 +0000 2020          0   \n",
       "2  1282890565592416256  Tue Jul 14 04:12:00 +0000 2020          0   \n",
       "3  1282890564703313921  Tue Jul 14 04:12:00 +0000 2020          0   \n",
       "4  1282890534634156032  Tue Jul 14 04:11:53 +0000 2020          1   \n",
       "\n",
       "                                               tweet  \n",
       "0  i think what theyre getting at though poorly c...  \n",
       "1  climate change is importantwe know thatbut we ...  \n",
       "2  how to green the worlds deserts and reverse cl...  \n",
       "3  minigrids could help take on  climatechange wh...  \n",
       "4   and antique representative hosts the show and...  "
      ]
     },
     "execution_count": 4,
     "metadata": {},
     "output_type": "execute_result"
    }
   ],
   "source": [
    "tweets.head(5)"
   ]
  },
  {
   "cell_type": "code",
   "execution_count": 5,
   "metadata": {},
   "outputs": [
    {
     "data": {
      "text/html": [
       "<div>\n",
       "<style scoped>\n",
       "    .dataframe tbody tr th:only-of-type {\n",
       "        vertical-align: middle;\n",
       "    }\n",
       "\n",
       "    .dataframe tbody tr th {\n",
       "        vertical-align: top;\n",
       "    }\n",
       "\n",
       "    .dataframe thead th {\n",
       "        text-align: right;\n",
       "    }\n",
       "</style>\n",
       "<table border=\"1\" class=\"dataframe\">\n",
       "  <thead>\n",
       "    <tr style=\"text-align: right;\">\n",
       "      <th></th>\n",
       "      <th>id</th>\n",
       "      <th>sentiment</th>\n",
       "    </tr>\n",
       "  </thead>\n",
       "  <tbody>\n",
       "    <tr>\n",
       "      <th>count</th>\n",
       "      <td>3.097000e+04</td>\n",
       "      <td>30970.000000</td>\n",
       "    </tr>\n",
       "    <tr>\n",
       "      <th>mean</th>\n",
       "      <td>1.282756e+18</td>\n",
       "      <td>0.497966</td>\n",
       "    </tr>\n",
       "    <tr>\n",
       "      <th>std</th>\n",
       "      <td>1.597473e+14</td>\n",
       "      <td>0.500004</td>\n",
       "    </tr>\n",
       "    <tr>\n",
       "      <th>min</th>\n",
       "      <td>1.282329e+18</td>\n",
       "      <td>0.000000</td>\n",
       "    </tr>\n",
       "    <tr>\n",
       "      <th>25%</th>\n",
       "      <td>1.282691e+18</td>\n",
       "      <td>0.000000</td>\n",
       "    </tr>\n",
       "    <tr>\n",
       "      <th>50%</th>\n",
       "      <td>1.282811e+18</td>\n",
       "      <td>0.000000</td>\n",
       "    </tr>\n",
       "    <tr>\n",
       "      <th>75%</th>\n",
       "      <td>1.282888e+18</td>\n",
       "      <td>1.000000</td>\n",
       "    </tr>\n",
       "    <tr>\n",
       "      <th>max</th>\n",
       "      <td>1.282897e+18</td>\n",
       "      <td>1.000000</td>\n",
       "    </tr>\n",
       "  </tbody>\n",
       "</table>\n",
       "</div>"
      ],
      "text/plain": [
       "                 id     sentiment\n",
       "count  3.097000e+04  30970.000000\n",
       "mean   1.282756e+18      0.497966\n",
       "std    1.597473e+14      0.500004\n",
       "min    1.282329e+18      0.000000\n",
       "25%    1.282691e+18      0.000000\n",
       "50%    1.282811e+18      0.000000\n",
       "75%    1.282888e+18      1.000000\n",
       "max    1.282897e+18      1.000000"
      ]
     },
     "execution_count": 5,
     "metadata": {},
     "output_type": "execute_result"
    }
   ],
   "source": [
    "tweets.describe()"
   ]
  },
  {
   "cell_type": "code",
   "execution_count": 6,
   "metadata": {},
   "outputs": [
    {
     "data": {
      "text/plain": [
       "0    15548\n",
       "1    15422\n",
       "Name: sentiment, dtype: int64"
      ]
     },
     "execution_count": 6,
     "metadata": {},
     "output_type": "execute_result"
    }
   ],
   "source": [
    "tweets['sentiment'].value_counts()"
   ]
  },
  {
   "cell_type": "code",
   "execution_count": 7,
   "metadata": {},
   "outputs": [
    {
     "data": {
      "image/png": "[encoded data removed]",
      "text/plain": [
       "<Figure size 432x288 with 1 Axes>"
      ]
     },
     "metadata": {
      "needs_background": "light"
     },
     "output_type": "display_data"
    }
   ],
   "source": [
    "# Count of positive and negative tweets\n",
    "chart = sns.countplot(x='sentiment',data=tweets, palette='coolwarm', hue='sentiment', dodge=False)\n",
    "plt.legend(loc='best', labels=['Negative', 'Positive'])\n",
    "plt.show(chart)"
   ]
  },
  {
   "cell_type": "code",
   "execution_count": 8,
   "metadata": {},
   "outputs": [],
   "source": [
    "# Storing tokenized tweet and number of words in each tweet \n",
    "tweets['tweet_list'] = tweets['tweet'].apply(lambda x:str(x).split())\n",
    "tweets['num_of_words'] = tweets['tweet'].apply(lambda x:len(str(x).split()))"
   ]
  },
  {
   "cell_type": "code",
   "execution_count": 9,
   "metadata": {},
   "outputs": [
    {
     "data": {
      "text/html": [
       "<style  type=\"text/css\" >\n",
       "    #T_29db5854_c631_11ea_817e_950d717711a7row0_col1 {\n",
       "            background-color:  #08306b;\n",
       "            color:  #f1f1f1;\n",
       "        }    #T_29db5854_c631_11ea_817e_950d717711a7row1_col1 {\n",
       "            background-color:  #1b69af;\n",
       "            color:  #f1f1f1;\n",
       "        }    #T_29db5854_c631_11ea_817e_950d717711a7row2_col1 {\n",
       "            background-color:  #56a0ce;\n",
       "            color:  #000000;\n",
       "        }    #T_29db5854_c631_11ea_817e_950d717711a7row3_col1 {\n",
       "            background-color:  #84bcdb;\n",
       "            color:  #000000;\n",
       "        }    #T_29db5854_c631_11ea_817e_950d717711a7row4_col1 {\n",
       "            background-color:  #8dc1dd;\n",
       "            color:  #000000;\n",
       "        }    #T_29db5854_c631_11ea_817e_950d717711a7row5_col1 {\n",
       "            background-color:  #94c4df;\n",
       "            color:  #000000;\n",
       "        }    #T_29db5854_c631_11ea_817e_950d717711a7row6_col1 {\n",
       "            background-color:  #95c5df;\n",
       "            color:  #000000;\n",
       "        }    #T_29db5854_c631_11ea_817e_950d717711a7row7_col1 {\n",
       "            background-color:  #97c6df;\n",
       "            color:  #000000;\n",
       "        }    #T_29db5854_c631_11ea_817e_950d717711a7row8_col1 {\n",
       "            background-color:  #bad6eb;\n",
       "            color:  #000000;\n",
       "        }    #T_29db5854_c631_11ea_817e_950d717711a7row9_col1 {\n",
       "            background-color:  #c6dbef;\n",
       "            color:  #000000;\n",
       "        }    #T_29db5854_c631_11ea_817e_950d717711a7row10_col1 {\n",
       "            background-color:  #d7e6f5;\n",
       "            color:  #000000;\n",
       "        }    #T_29db5854_c631_11ea_817e_950d717711a7row11_col1 {\n",
       "            background-color:  #dae8f6;\n",
       "            color:  #000000;\n",
       "        }    #T_29db5854_c631_11ea_817e_950d717711a7row12_col1 {\n",
       "            background-color:  #e2edf8;\n",
       "            color:  #000000;\n",
       "        }    #T_29db5854_c631_11ea_817e_950d717711a7row13_col1 {\n",
       "            background-color:  #e3eef8;\n",
       "            color:  #000000;\n",
       "        }    #T_29db5854_c631_11ea_817e_950d717711a7row14_col1 {\n",
       "            background-color:  #e8f1fa;\n",
       "            color:  #000000;\n",
       "        }    #T_29db5854_c631_11ea_817e_950d717711a7row15_col1 {\n",
       "            background-color:  #eaf2fb;\n",
       "            color:  #000000;\n",
       "        }    #T_29db5854_c631_11ea_817e_950d717711a7row16_col1 {\n",
       "            background-color:  #f2f8fd;\n",
       "            color:  #000000;\n",
       "        }    #T_29db5854_c631_11ea_817e_950d717711a7row17_col1 {\n",
       "            background-color:  #f5f9fe;\n",
       "            color:  #000000;\n",
       "        }    #T_29db5854_c631_11ea_817e_950d717711a7row18_col1 {\n",
       "            background-color:  #f6faff;\n",
       "            color:  #000000;\n",
       "        }    #T_29db5854_c631_11ea_817e_950d717711a7row19_col1 {\n",
       "            background-color:  #f7fbff;\n",
       "            color:  #000000;\n",
       "        }</style><table id=\"T_29db5854_c631_11ea_817e_950d717711a7\" ><thead>    <tr>        <th class=\"blank level0\" ></th>        <th class=\"col_heading level0 col0\" >Common_words</th>        <th class=\"col_heading level0 col1\" >count</th>    </tr></thead><tbody>\n",
       "                <tr>\n",
       "                        <th id=\"T_29db5854_c631_11ea_817e_950d717711a7level0_row0\" class=\"row_heading level0 row0\" >0</th>\n",
       "                        <td id=\"T_29db5854_c631_11ea_817e_950d717711a7row0_col0\" class=\"data row0 col0\" >the</td>\n",
       "                        <td id=\"T_29db5854_c631_11ea_817e_950d717711a7row0_col1\" class=\"data row0 col1\" >25433</td>\n",
       "            </tr>\n",
       "            <tr>\n",
       "                        <th id=\"T_29db5854_c631_11ea_817e_950d717711a7level0_row1\" class=\"row_heading level0 row1\" >1</th>\n",
       "                        <td id=\"T_29db5854_c631_11ea_817e_950d717711a7row1_col0\" class=\"data row1 col0\" >to</td>\n",
       "                        <td id=\"T_29db5854_c631_11ea_817e_950d717711a7row1_col1\" class=\"data row1 col1\" >20727</td>\n",
       "            </tr>\n",
       "            <tr>\n",
       "                        <th id=\"T_29db5854_c631_11ea_817e_950d717711a7level0_row2\" class=\"row_heading level0 row2\" >2</th>\n",
       "                        <td id=\"T_29db5854_c631_11ea_817e_950d717711a7row2_col0\" class=\"data row2 col0\" >and</td>\n",
       "                        <td id=\"T_29db5854_c631_11ea_817e_950d717711a7row2_col1\" class=\"data row2 col1\" >16203</td>\n",
       "            </tr>\n",
       "            <tr>\n",
       "                        <th id=\"T_29db5854_c631_11ea_817e_950d717711a7level0_row3\" class=\"row_heading level0 row3\" >3</th>\n",
       "                        <td id=\"T_29db5854_c631_11ea_817e_950d717711a7row3_col0\" class=\"data row3 col0\" >a</td>\n",
       "                        <td id=\"T_29db5854_c631_11ea_817e_950d717711a7row3_col1\" class=\"data row3 col1\" >13508</td>\n",
       "            </tr>\n",
       "            <tr>\n",
       "                        <th id=\"T_29db5854_c631_11ea_817e_950d717711a7level0_row4\" class=\"row_heading level0 row4\" >4</th>\n",
       "                        <td id=\"T_29db5854_c631_11ea_817e_950d717711a7row4_col0\" class=\"data row4 col0\" >climate</td>\n",
       "                        <td id=\"T_29db5854_c631_11ea_817e_950d717711a7row4_col1\" class=\"data row4 col1\" >13021</td>\n",
       "            </tr>\n",
       "            <tr>\n",
       "                        <th id=\"T_29db5854_c631_11ea_817e_950d717711a7level0_row5\" class=\"row_heading level0 row5\" >5</th>\n",
       "                        <td id=\"T_29db5854_c631_11ea_817e_950d717711a7row5_col0\" class=\"data row5 col0\" >i</td>\n",
       "                        <td id=\"T_29db5854_c631_11ea_817e_950d717711a7row5_col1\" class=\"data row5 col1\" >12728</td>\n",
       "            </tr>\n",
       "            <tr>\n",
       "                        <th id=\"T_29db5854_c631_11ea_817e_950d717711a7level0_row6\" class=\"row_heading level0 row6\" >6</th>\n",
       "                        <td id=\"T_29db5854_c631_11ea_817e_950d717711a7row6_col0\" class=\"data row6 col0\" >of</td>\n",
       "                        <td id=\"T_29db5854_c631_11ea_817e_950d717711a7row6_col1\" class=\"data row6 col1\" >12627</td>\n",
       "            </tr>\n",
       "            <tr>\n",
       "                        <th id=\"T_29db5854_c631_11ea_817e_950d717711a7level0_row7\" class=\"row_heading level0 row7\" >7</th>\n",
       "                        <td id=\"T_29db5854_c631_11ea_817e_950d717711a7row7_col0\" class=\"data row7 col0\" >change</td>\n",
       "                        <td id=\"T_29db5854_c631_11ea_817e_950d717711a7row7_col1\" class=\"data row7 col1\" >12521</td>\n",
       "            </tr>\n",
       "            <tr>\n",
       "                        <th id=\"T_29db5854_c631_11ea_817e_950d717711a7level0_row8\" class=\"row_heading level0 row8\" >8</th>\n",
       "                        <td id=\"T_29db5854_c631_11ea_817e_950d717711a7row8_col0\" class=\"data row8 col0\" >is</td>\n",
       "                        <td id=\"T_29db5854_c631_11ea_817e_950d717711a7row8_col1\" class=\"data row8 col1\" >10270</td>\n",
       "            </tr>\n",
       "            <tr>\n",
       "                        <th id=\"T_29db5854_c631_11ea_817e_950d717711a7level0_row9\" class=\"row_heading level0 row9\" >9</th>\n",
       "                        <td id=\"T_29db5854_c631_11ea_817e_950d717711a7row9_col0\" class=\"data row9 col0\" >in</td>\n",
       "                        <td id=\"T_29db5854_c631_11ea_817e_950d717711a7row9_col1\" class=\"data row9 col1\" >9500</td>\n",
       "            </tr>\n",
       "            <tr>\n",
       "                        <th id=\"T_29db5854_c631_11ea_817e_950d717711a7level0_row10\" class=\"row_heading level0 row10\" >10</th>\n",
       "                        <td id=\"T_29db5854_c631_11ea_817e_950d717711a7row10_col0\" class=\"data row10 col0\" >you</td>\n",
       "                        <td id=\"T_29db5854_c631_11ea_817e_950d717711a7row10_col1\" class=\"data row10 col1\" >7642</td>\n",
       "            </tr>\n",
       "            <tr>\n",
       "                        <th id=\"T_29db5854_c631_11ea_817e_950d717711a7level0_row11\" class=\"row_heading level0 row11\" >11</th>\n",
       "                        <td id=\"T_29db5854_c631_11ea_817e_950d717711a7row11_col0\" class=\"data row11 col0\" >for</td>\n",
       "                        <td id=\"T_29db5854_c631_11ea_817e_950d717711a7row11_col1\" class=\"data row11 col1\" >7283</td>\n",
       "            </tr>\n",
       "            <tr>\n",
       "                        <th id=\"T_29db5854_c631_11ea_817e_950d717711a7level0_row12\" class=\"row_heading level0 row12\" >12</th>\n",
       "                        <td id=\"T_29db5854_c631_11ea_817e_950d717711a7row12_col0\" class=\"data row12 col0\" >that</td>\n",
       "                        <td id=\"T_29db5854_c631_11ea_817e_950d717711a7row12_col1\" class=\"data row12 col1\" >6442</td>\n",
       "            </tr>\n",
       "            <tr>\n",
       "                        <th id=\"T_29db5854_c631_11ea_817e_950d717711a7level0_row13\" class=\"row_heading level0 row13\" >13</th>\n",
       "                        <td id=\"T_29db5854_c631_11ea_817e_950d717711a7row13_col0\" class=\"data row13 col0\" >sleep</td>\n",
       "                        <td id=\"T_29db5854_c631_11ea_817e_950d717711a7row13_col1\" class=\"data row13 col1\" >6392</td>\n",
       "            </tr>\n",
       "            <tr>\n",
       "                        <th id=\"T_29db5854_c631_11ea_817e_950d717711a7level0_row14\" class=\"row_heading level0 row14\" >14</th>\n",
       "                        <td id=\"T_29db5854_c631_11ea_817e_950d717711a7row14_col0\" class=\"data row14 col0\" >on</td>\n",
       "                        <td id=\"T_29db5854_c631_11ea_817e_950d717711a7row14_col1\" class=\"data row14 col1\" >5792</td>\n",
       "            </tr>\n",
       "            <tr>\n",
       "                        <th id=\"T_29db5854_c631_11ea_817e_950d717711a7level0_row15\" class=\"row_heading level0 row15\" >15</th>\n",
       "                        <td id=\"T_29db5854_c631_11ea_817e_950d717711a7row15_col0\" class=\"data row15 col0\" >it</td>\n",
       "                        <td id=\"T_29db5854_c631_11ea_817e_950d717711a7row15_col1\" class=\"data row15 col1\" >5615</td>\n",
       "            </tr>\n",
       "            <tr>\n",
       "                        <th id=\"T_29db5854_c631_11ea_817e_950d717711a7level0_row16\" class=\"row_heading level0 row16\" >16</th>\n",
       "                        <td id=\"T_29db5854_c631_11ea_817e_950d717711a7row16_col0\" class=\"data row16 col0\" >exercise</td>\n",
       "                        <td id=\"T_29db5854_c631_11ea_817e_950d717711a7row16_col1\" class=\"data row16 col1\" >4681</td>\n",
       "            </tr>\n",
       "            <tr>\n",
       "                        <th id=\"T_29db5854_c631_11ea_817e_950d717711a7level0_row17\" class=\"row_heading level0 row17\" >17</th>\n",
       "                        <td id=\"T_29db5854_c631_11ea_817e_950d717711a7row17_col0\" class=\"data row17 col0\" >this</td>\n",
       "                        <td id=\"T_29db5854_c631_11ea_817e_950d717711a7row17_col1\" class=\"data row17 col1\" >4456</td>\n",
       "            </tr>\n",
       "            <tr>\n",
       "                        <th id=\"T_29db5854_c631_11ea_817e_950d717711a7level0_row18\" class=\"row_heading level0 row18\" >18</th>\n",
       "                        <td id=\"T_29db5854_c631_11ea_817e_950d717711a7row18_col0\" class=\"data row18 col0\" >we</td>\n",
       "                        <td id=\"T_29db5854_c631_11ea_817e_950d717711a7row18_col1\" class=\"data row18 col1\" >4293</td>\n",
       "            </tr>\n",
       "            <tr>\n",
       "                        <th id=\"T_29db5854_c631_11ea_817e_950d717711a7level0_row19\" class=\"row_heading level0 row19\" >19</th>\n",
       "                        <td id=\"T_29db5854_c631_11ea_817e_950d717711a7row19_col0\" class=\"data row19 col0\" >are</td>\n",
       "                        <td id=\"T_29db5854_c631_11ea_817e_950d717711a7row19_col1\" class=\"data row19 col1\" >4182</td>\n",
       "            </tr>\n",
       "    </tbody></table>"
      ],
      "text/plain": [
       "<pandas.io.formats.style.Styler at 0x15c18e6f198>"
      ]
     },
     "execution_count": 9,
     "metadata": {},
     "output_type": "execute_result"
    }
   ],
   "source": [
    "# Create vocabulary\n",
    "vocab_counter = Counter([item for sublist in tweets['tweet_list'] for item in sublist])\n",
    "vocab = list(vocab_counter.keys())\n",
    "\n",
    "# Looking up top 20 words by word count\n",
    "temp = pd.DataFrame(vocab_counter.most_common(20))\n",
    "temp.columns = ['Common_words','count']\n",
    "temp.style.background_gradient(cmap='Blues')"
   ]
  },
  {
   "cell_type": "code",
   "execution_count": 250,
   "metadata": {},
   "outputs": [
    {
     "data": {
      "image/png": "[encoded data removed]",
      "text/plain": [
       "<Figure size 720x720 with 1 Axes>"
      ]
     },
     "metadata": {
      "needs_background": "light"
     },
     "output_type": "display_data"
    }
   ],
   "source": [
    "sns.catplot(x='count', y='Common_words',data=temp, palette='coolwarm', kind='bar', height=10, aspect=1, dodge=False)\n",
    "plt.savefig('notebook/img/word_dist_600dpi.png', dpi=600, bbox_inches='tight')"
   ]
  },
  {
   "cell_type": "code",
   "execution_count": 11,
   "metadata": {},
   "outputs": [
    {
     "data": {
      "text/plain": [
       "count    30970.000000\n",
       "mean        23.007201\n",
       "std         14.308707\n",
       "min          1.000000\n",
       "25%         11.000000\n",
       "50%         20.000000\n",
       "75%         35.000000\n",
       "max         63.000000\n",
       "Name: num_of_words, dtype: float64"
      ]
     },
     "execution_count": 11,
     "metadata": {},
     "output_type": "execute_result"
    }
   ],
   "source": [
    "# Maximum number of words in a tweet in our dataset\n",
    "tweets['num_of_words'].describe()"
   ]
  },
  {
   "cell_type": "code",
   "execution_count": 249,
   "metadata": {},
   "outputs": [
    {
     "data": {
      "image/png": "[encoded data removed]",
      "text/plain": [
       "<Figure size 432x288 with 1 Axes>"
      ]
     },
     "metadata": {
      "needs_background": "light"
     },
     "output_type": "display_data"
    }
   ],
   "source": [
    "sb =sns.distplot(tweets['num_of_words'], bins=100, kde=False, rug=True);\n",
    "plt.savefig('notebook/img/word_dist_300dpi.png', dpi=300, bbox_inches='tight')"
   ]
  },
  {
   "cell_type": "markdown",
   "metadata": {},
   "source": [
    "# Model"
   ]
  },
  {
   "cell_type": "code",
   "execution_count": 235,
   "metadata": {},
   "outputs": [],
   "source": [
    "import numpy as np\n",
    "import tensorflow as tf\n",
    "from tensorflow.keras import layers\n",
    "from tensorflow.keras.preprocessing.text import Tokenizer\n",
    "from tensorflow.keras.preprocessing.sequence import pad_sequences\n",
    "from tensorflow import keras\n",
    "from sklearn.model_selection import train_test_split\n",
    "from tensorflow.keras.utils import to_categorical\n",
    "\n",
    "\n",
    "max_features = 70\n",
    "embedding_dim = 50\n",
    "embeding_path = f\"data/word_embedding/glove.twitter.27B.{embedding_dim}d.txt\""
   ]
  },
  {
   "cell_type": "code",
   "execution_count": 14,
   "metadata": {},
   "outputs": [],
   "source": [
    "def get_word_embedding_dictionary():\n",
    "    \"\"\" creates word_to_vector, word_to_index and index_to_word dictionaries \"\"\"\n",
    "    with open(embeding_path, 'r', encoding='utf-8') as f:\n",
    "        words = set()\n",
    "        word_to_vec_map = {}\n",
    "        skip_count = 0\n",
    "        \n",
    "        # Extracting word and its vectors\n",
    "        for line in f:\n",
    "            line_list = line.split()\n",
    "            \n",
    "            # Ignoring unresolvable words\n",
    "            if len(line_list)!=embedding_dim+1:\n",
    "                skip_count +=1\n",
    "                continue\n",
    "            curr_word = line_list[0]\n",
    "            words.add(curr_word)\n",
    "            word_to_vec_map[curr_word] = np.array(line_list[1:], dtype=np.float64)\n",
    "            \n",
    "        word_to_index = {}\n",
    "        index_to_word = {}\n",
    "        for i,w in enumerate(sorted(words)):\n",
    "            word_to_index[w] = i\n",
    "            index_to_word[i] = w\n",
    "    return word_to_index, index_to_word, word_to_vec_map"
   ]
  },
  {
   "cell_type": "code",
   "execution_count": 15,
   "metadata": {},
   "outputs": [
    {
     "name": "stdout",
     "output_type": "stream",
     "text": [
      "[ 0.68243    0.73589    0.017529  -0.13763    0.36029    0.51704\n",
      "  0.1954     0.75219    0.43029    1.0728     0.05725    0.60043\n",
      " -2.4946     0.032148  -0.44991    0.0097306 -0.013653  -0.51001\n",
      "  0.25079   -0.34493    0.33606   -0.0096185 -0.51301    0.1276\n",
      "  0.85964   -0.78568   -0.1914    -0.0033234  0.89442    0.39503\n",
      " -0.95075    0.93803   -0.31701    0.56457    1.0153     0.86391\n",
      " -0.19971    0.47159   -0.26864    0.12548   -2.749     -0.55106\n",
      "  0.040409   0.29164   -0.28792   -0.02274   -0.40295    0.14771\n",
      "  0.080503  -0.68115  ]\n"
     ]
    }
   ],
   "source": [
    "word_to_index, index_to_word, word_to_vec_map = get_word_embedding_dictionary()\n",
    "print(word_to_vec_map['rt'])"
   ]
  },
  {
   "cell_type": "code",
   "execution_count": 7,
   "metadata": {},
   "outputs": [],
   "source": [
    "def sentence_to_avg(text, word_to_vec_map):\n",
    "    \n",
    "    word_list = text.lower().split()   \n",
    "    word_list_len = len(word_list)   \n",
    "    \n",
    "    # Embedding array\n",
    "    emb_arr = np.zeros((embedding_dim,word_list_len))    \n",
    "    \n",
    "    for i,word in enumerate(word_list):\n",
    "        emb_arr[:,i] = word_to_vec_map[word]\n",
    "    \n",
    "    # Averaging the embeddings across columns\n",
    "    average = np.mean(emb_arr, axis=1) \n",
    "    \n",
    "    return average"
   ]
  },
  {
   "cell_type": "code",
   "execution_count": null,
   "metadata": {},
   "outputs": [],
   "source": [
    "avg = sentence_to_avg('text jinni', word_to_vec_map)\n",
    "print(avg)"
   ]
  },
  {
   "cell_type": "code",
   "execution_count": 16,
   "metadata": {},
   "outputs": [],
   "source": [
    "def sentences_to_indices(X, word_to_index, max_len):    \n",
    "    m = X.shape[0]                                   \n",
    "    \n",
    "    X_indices = np.zeros((m,max_len))\n",
    "    \n",
    "    # Assign indices to words\n",
    "    for i,sentence in enumerate(X):        \n",
    "        sentence_words = sentence.lower().split()\n",
    "        sentence_words = sentence_words[:max_len]\n",
    "        for j,word in enumerate(sentence_words):\n",
    "            X_indices[i, j] = word_to_index.get(word,0)\n",
    "    return X_indices"
   ]
  },
  {
   "cell_type": "code",
   "execution_count": 17,
   "metadata": {},
   "outputs": [
    {
     "name": "stdout",
     "output_type": "stream",
     "text": [
      "X1 = ['funny lol spug' 'lets play baseball' 'food is ready for you']\n",
      "X1_indices =\n",
      " [[217641.]\n",
      " [339235.]\n",
      " [211510.]]\n",
      "217641\n"
     ]
    }
   ],
   "source": [
    "X1 = np.array([\"funny lol spug\", \"lets play baseball\", \"food is ready for you\"])\n",
    "X1_indices = sentences_to_indices(X1,word_to_index, max_len = 1)\n",
    "print(\"X1 =\", X1)\n",
    "print(\"X1_indices =\\n\", X1_indices)\n",
    "print(word_to_index.get('funny'))"
   ]
  },
  {
   "cell_type": "code",
   "execution_count": 18,
   "metadata": {},
   "outputs": [],
   "source": [
    "def pretrained_embedding_layer(word_to_vec_map, word_to_index):\n",
    "    # Adding 1 to fit Keras embedding (requirement)\n",
    "    vocab_len = len(word_to_index) + 1                  \n",
    "\n",
    "    emb_matrix = np.zeros((vocab_len,embedding_dim))\n",
    "    for word, idx in word_to_index.items():\n",
    "        emb_matrix[idx, :] = word_to_vec_map[word]\n",
    "\n",
    "    embedding_layer = layers.Embedding(\n",
    "                        vocab_len,\n",
    "                        embedding_dim,\n",
    "                        trainable = False\n",
    "                        )\n",
    "\n",
    "\n",
    "    # Build the embedding layer, it is required before setting the weights of the embedding layer. \n",
    "    embedding_layer.build((None,))\n",
    "    \n",
    "    # Set the weights of the embedding layer to the embedding matrix. Your layer is now pretrained.\n",
    "    embedding_layer.set_weights([emb_matrix])\n",
    "    \n",
    "    return embedding_layer"
   ]
  },
  {
   "cell_type": "code",
   "execution_count": 192,
   "metadata": {},
   "outputs": [],
   "source": [
    "def sentiment_model(input_shape, word_to_vec_map, word_to_index):\n",
    "    # Define sentence_indices as the input of the graph.\n",
    "    sentence_indices =layers.Input(shape=input_shape, dtype='int32')\n",
    "    \n",
    "    # Create the embedding layer pretrained with GloVe Vectors\n",
    "    embedding_layer = pretrained_embedding_layer(word_to_vec_map, word_to_index)\n",
    "    \n",
    "\n",
    "    embeddings = embedding_layer(sentence_indices)   \n",
    "    x = layers.LSTM(50, return_sequences=True)(embeddings)\n",
    "    x = layers.Dropout(0.4)(x)\n",
    "    x = layers.BatchNormalization()(x)\n",
    "    x = layers.LSTM(50)(x)\n",
    "    x = layers.Dropout(0.4)(x)\n",
    "    x = layers.BatchNormalization()(x)\n",
    "#     x = layers.Dense(2, activation='relu')(x)\n",
    "#     x = layers.BatchNormalization()(x)\n",
    "    predictions = layers.Dense(1, activation=\"sigmoid\", name=\"predictions\")(x)\n",
    "    \n",
    "    # Create Model instance which converts sentence_indices into X.\n",
    "    model = keras.Model(inputs=sentence_indices,outputs=predictions)\n",
    "    \n",
    "    \n",
    "    return model"
   ]
  },
  {
   "cell_type": "code",
   "execution_count": 193,
   "metadata": {},
   "outputs": [
    {
     "name": "stdout",
     "output_type": "stream",
     "text": [
      "Model: \"model_26\"\n",
      "_________________________________________________________________\n",
      "Layer (type)                 Output Shape              Param #   \n",
      "=================================================================\n",
      "input_27 (InputLayer)        [(None, 70)]              0         \n",
      "_________________________________________________________________\n",
      "embedding_26 (Embedding)     (None, 70, 50)            59675700  \n",
      "_________________________________________________________________\n",
      "lstm_41 (LSTM)               (None, 70, 50)            20200     \n",
      "_________________________________________________________________\n",
      "dropout_41 (Dropout)         (None, 70, 50)            0         \n",
      "_________________________________________________________________\n",
      "batch_normalization_49 (Batc (None, 70, 50)            200       \n",
      "_________________________________________________________________\n",
      "lstm_42 (LSTM)               (None, 50)                20200     \n",
      "_________________________________________________________________\n",
      "dropout_42 (Dropout)         (None, 50)                0         \n",
      "_________________________________________________________________\n",
      "batch_normalization_50 (Batc (None, 50)                200       \n",
      "_________________________________________________________________\n",
      "predictions (Dense)          (None, 1)                 51        \n",
      "=================================================================\n",
      "Total params: 59,716,551\n",
      "Trainable params: 40,651\n",
      "Non-trainable params: 59,675,900\n",
      "_________________________________________________________________\n"
     ]
    }
   ],
   "source": [
    "model = sentiment_model((max_features,), word_to_vec_map, word_to_index)\n",
    "model.summary()"
   ]
  },
  {
   "cell_type": "code",
   "execution_count": null,
   "metadata": {},
   "outputs": [],
   "source": []
  },
  {
   "cell_type": "markdown",
   "metadata": {},
   "source": [
    "# Creating training set"
   ]
  },
  {
   "cell_type": "code",
   "execution_count": 34,
   "metadata": {},
   "outputs": [],
   "source": [
    "X_train = tweets['tweet']\n",
    "Y_train = tweets['sentiment']"
   ]
  },
  {
   "cell_type": "code",
   "execution_count": 22,
   "metadata": {},
   "outputs": [],
   "source": [
    "tweets_test = pd.read_csv('data/tweets_test.csv')"
   ]
  },
  {
   "cell_type": "code",
   "execution_count": 23,
   "metadata": {},
   "outputs": [],
   "source": [
    "# X_test, Y_test = tweets_test['tweet'], tweets_test['sentiment']"
   ]
  },
  {
   "cell_type": "code",
   "execution_count": 24,
   "metadata": {},
   "outputs": [],
   "source": [
    "X_val, X_test, Y_val, Y_test = train_test_split(tweets_test['tweet'],tweets_test['sentiment'], test_size = 0.50, random_state = 1)"
   ]
  },
  {
   "cell_type": "code",
   "execution_count": 25,
   "metadata": {},
   "outputs": [
    {
     "name": "stdout",
     "output_type": "stream",
     "text": [
      "(30970,) (30970,)\n",
      "(4197,) (4197,)\n",
      "(4198,) (4198,)\n"
     ]
    }
   ],
   "source": [
    "print(X_train.shape,Y_train.shape)\n",
    "print(X_val.shape,Y_val.shape)\n",
    "print(X_test.shape,Y_test.shape)"
   ]
  },
  {
   "cell_type": "code",
   "execution_count": 26,
   "metadata": {},
   "outputs": [],
   "source": [
    "X_train_indices = sentences_to_indices(X_train, word_to_index, max_features)\n",
    "Y_train_OH = to_categorical(Y_train)\n",
    "X_val_indices = sentences_to_indices(X_val, word_to_index, max_features)"
   ]
  },
  {
   "cell_type": "code",
   "execution_count": 245,
   "metadata": {},
   "outputs": [
    {
     "name": "stdout",
     "output_type": "stream",
     "text": [
      "[422254. 194652.  26336. 112561. 103736. 654138.  22566.  59103.   2113.\n",
      " 602112.   2113. 602112. 655000. 458003. 194343. 601403. 581002. 284814.\n",
      " 602198. 422254. 212206. 446381. 540291. 634268. 257482. 601149.   2113.\n",
      " 602112.      0.      0.      0.      0.      0.      0.      0.      0.\n",
      "      0.      0.      0.      0.      0.      0.      0.      0.      0.\n",
      "      0.      0.      0.      0.      0.      0.      0.      0.      0.\n",
      "      0.      0.      0.      0.      0.      0.      0.      0.      0.\n",
      "      0.      0.      0.      0.      0.      0.      0.]\n"
     ]
    }
   ],
   "source": [
    "print(X_train_indices[5])"
   ]
  },
  {
   "cell_type": "code",
   "execution_count": 194,
   "metadata": {},
   "outputs": [],
   "source": [
    "model.compile(loss='binary_crossentropy', optimizer='adam', metrics=['accuracy'])\n",
    "tensorboard_callback = keras.callbacks.TensorBoard(log_dir=\"logs\")\n",
    "es_callback = keras.callbacks.EarlyStopping(monitor='val_loss', mode='min', verbose=1, patience=10)\n",
    "mc_callback = keras.callbacks.ModelCheckpoint('model/best_model.h5', monitor='val_loss', mode='min', save_best_only=True)"
   ]
  },
  {
   "cell_type": "code",
   "execution_count": 195,
   "metadata": {
    "scrolled": false
   },
   "outputs": [
    {
     "name": "stdout",
     "output_type": "stream",
     "text": [
      "Train on 30970 samples, validate on 4197 samples\n",
      "Epoch 1/40\n",
      "   32/30970 [..............................] - ETA: 57:34 - loss: 0.9732 - accuracy: 0.4062WARNING:tensorflow:Method (on_train_batch_end) is slow compared to the batch update (0.221393). Check your callbacks.\n",
      "30970/30970 [==============================] - 118s 4ms/sample - loss: 0.6766 - accuracy: 0.6121 - val_loss: 0.6046 - val_accuracy: 0.6776\n",
      "Epoch 2/40\n",
      "30970/30970 [==============================] - 110s 4ms/sample - loss: 0.5191 - accuracy: 0.7413 - val_loss: 0.5372 - val_accuracy: 0.7317\n",
      "Epoch 3/40\n",
      "30970/30970 [==============================] - 107s 3ms/sample - loss: 0.4649 - accuracy: 0.7797 - val_loss: 0.6914 - val_accuracy: 0.7012\n",
      "Epoch 4/40\n",
      "30970/30970 [==============================] - 104s 3ms/sample - loss: 0.4275 - accuracy: 0.8027 - val_loss: 0.5192 - val_accuracy: 0.7784\n",
      "Epoch 5/40\n",
      "30970/30970 [==============================] - 106s 3ms/sample - loss: 0.3951 - accuracy: 0.8212 - val_loss: 0.4659 - val_accuracy: 0.8008\n",
      "Epoch 6/40\n",
      "30970/30970 [==============================] - 106s 3ms/sample - loss: 0.3676 - accuracy: 0.8382 - val_loss: 0.4157 - val_accuracy: 0.8125\n",
      "Epoch 7/40\n",
      "30970/30970 [==============================] - 106s 3ms/sample - loss: 0.3454 - accuracy: 0.8473 - val_loss: 0.4184 - val_accuracy: 0.8158\n",
      "Epoch 8/40\n",
      "30970/30970 [==============================] - 117s 4ms/sample - loss: 0.3213 - accuracy: 0.8636 - val_loss: 0.3983 - val_accuracy: 0.8251\n",
      "Epoch 9/40\n",
      "30970/30970 [==============================] - 113s 4ms/sample - loss: 0.3005 - accuracy: 0.8742 - val_loss: 0.5287 - val_accuracy: 0.8082\n",
      "Epoch 10/40\n",
      "30970/30970 [==============================] - 114s 4ms/sample - loss: 0.2777 - accuracy: 0.8837 - val_loss: 0.4112 - val_accuracy: 0.8382\n",
      "Epoch 11/40\n",
      "30970/30970 [==============================] - 112s 4ms/sample - loss: 0.2595 - accuracy: 0.8931 - val_loss: 0.3829 - val_accuracy: 0.8513\n",
      "Epoch 12/40\n",
      "30970/30970 [==============================] - 105s 3ms/sample - loss: 0.2410 - accuracy: 0.9045 - val_loss: 0.3729 - val_accuracy: 0.8449\n",
      "Epoch 13/40\n",
      "30970/30970 [==============================] - 104s 3ms/sample - loss: 0.2247 - accuracy: 0.9124 - val_loss: 0.4350 - val_accuracy: 0.8447\n",
      "Epoch 14/40\n",
      "30970/30970 [==============================] - 103s 3ms/sample - loss: 0.2123 - accuracy: 0.9172 - val_loss: 0.4796 - val_accuracy: 0.8194\n",
      "Epoch 15/40\n",
      "30970/30970 [==============================] - 104s 3ms/sample - loss: 0.1999 - accuracy: 0.9206 - val_loss: 0.4374 - val_accuracy: 0.8506\n",
      "Epoch 16/40\n",
      "30970/30970 [==============================] - 104s 3ms/sample - loss: 0.1834 - accuracy: 0.9285 - val_loss: 0.4501 - val_accuracy: 0.8504\n",
      "Epoch 17/40\n",
      "30970/30970 [==============================] - 105s 3ms/sample - loss: 0.1719 - accuracy: 0.9345 - val_loss: 0.4110 - val_accuracy: 0.8580\n",
      "Epoch 18/40\n",
      "30970/30970 [==============================] - 103s 3ms/sample - loss: 0.1648 - accuracy: 0.9378 - val_loss: 0.5289 - val_accuracy: 0.8356\n",
      "Epoch 19/40\n",
      "30970/30970 [==============================] - 106s 3ms/sample - loss: 0.1541 - accuracy: 0.9429 - val_loss: 0.3912 - val_accuracy: 0.8628\n",
      "Epoch 20/40\n",
      "30970/30970 [==============================] - 110s 4ms/sample - loss: 0.1404 - accuracy: 0.9470 - val_loss: 0.4892 - val_accuracy: 0.8227\n",
      "Epoch 21/40\n",
      "30970/30970 [==============================] - 111s 4ms/sample - loss: 0.1322 - accuracy: 0.9491 - val_loss: 0.5500 - val_accuracy: 0.8480\n",
      "Epoch 22/40\n",
      "30970/30970 [==============================] - 114s 4ms/sample - loss: 0.1219 - accuracy: 0.9548 - val_loss: 0.6696 - val_accuracy: 0.8439\n",
      "Epoch 00022: early stopping\n"
     ]
    }
   ],
   "source": [
    "history = model.fit(X_train_indices, Y_train,\n",
    "                    epochs = 40, batch_size = 32,\n",
    "                    shuffle=True, callbacks=[tensorboard_callback, es_callback, mc_callback],\n",
    "                   validation_data = (X_val_indices, Y_val) )"
   ]
  },
  {
   "cell_type": "code",
   "execution_count": 196,
   "metadata": {},
   "outputs": [
    {
     "name": "stdout",
     "output_type": "stream",
     "text": [
      "4198/4198 [==============================] - 4s 954us/sample - loss: 0.6261 - accuracy: 0.8430\n",
      "\n",
      "Test accuracy =  0.8430205\n"
     ]
    }
   ],
   "source": [
    "X_test_indices = sentences_to_indices(X_test, word_to_index, max_features)\n",
    "Y_test_OH = to_categorical(Y_test)\n",
    "loss, acc = model.evaluate(X_test_indices, Y_test)\n",
    "print()\n",
    "print(\"Test accuracy = \", acc)"
   ]
  },
  {
   "cell_type": "code",
   "execution_count": 247,
   "metadata": {},
   "outputs": [
    {
     "data": {
      "image/png": "[encoded data removed]",
      "text/plain": [
       "<Figure size 432x288 with 1 Axes>"
      ]
     },
     "metadata": {
      "needs_background": "light"
     },
     "output_type": "display_data"
    },
    {
     "data": {
      "image/png": "[encoded data removed]",
      "text/plain": [
       "<Figure size 432x288 with 1 Axes>"
      ]
     },
     "metadata": {
      "needs_background": "light"
     },
     "output_type": "display_data"
    }
   ],
   "source": [
    "plt.plot(history.history['accuracy'])\n",
    "plt.plot(history.history['val_accuracy'])\n",
    "plt.title('model accuracy')\n",
    "plt.ylabel('accuracy')\n",
    "plt.xlabel('epoch')\n",
    "plt.legend(['train','test'], loc='upper left')\n",
    "\n",
    "plt.savefig('notebook/img/accuracy_300dpi.png', dpi=600, bbox_inches='tight')\n",
    "plt.show()\n",
    "# plt.savefig('plot.png', dpi=300, bbox_inches='tight')\n",
    "\n",
    "plt.plot(history.history['loss'])\n",
    "plt.plot(history.history['val_loss'])\n",
    "plt.title('model loss')\n",
    "plt.ylabel('loss')\n",
    "plt.xlabel('epoch')\n",
    "plt.legend(['train','test'], loc='upper left')\n",
    "\n",
    "\n",
    "# plt.savefig('notebook/loss_600dpi.png', dpi=600, bbox_inches='tight')\n",
    "plt.show()"
   ]
  },
  {
   "cell_type": "code",
   "execution_count": 264,
   "metadata": {},
   "outputs": [
    {
     "data": {
      "text/plain": [
       "'not good'"
      ]
     },
     "execution_count": 264,
     "metadata": {},
     "output_type": "execute_result"
    }
   ],
   "source": [
    "twt = np.array([\"not good\",\"The last thing that pandemic hit economy needs is accelerating inflation\"])\n",
    "twt_indices = sentences_to_indices(twt, word_to_index, max_features)\n",
    "output = model.predict(twt_indices,batch_size=1,verbose = 0)[1]\n",
    "output[0]\n",
    "# print(sentiment)\n",
    "arr = np.asarray([\"not good\"])\n",
    "arr[0]"
   ]
  },
  {
   "cell_type": "code",
   "execution_count": 238,
   "metadata": {},
   "outputs": [],
   "source": [
    "\n",
    "from tensorflow.keras.models import load_model"
   ]
  },
  {
   "cell_type": "code",
   "execution_count": 240,
   "metadata": {},
   "outputs": [
    {
     "name": "stdout",
     "output_type": "stream",
     "text": [
      "4198/4198 [==============================] - 6s 1ms/sample - loss: 0.3562 - accuracy: 0.8473\n",
      "\n",
      "Test accuracy =  0.8473082\n",
      "Model: \"model_26\"\n",
      "_________________________________________________________________\n",
      "Layer (type)                 Output Shape              Param #   \n",
      "=================================================================\n",
      "input_27 (InputLayer)        [(None, 70)]              0         \n",
      "_________________________________________________________________\n",
      "embedding_26 (Embedding)     (None, 70, 50)            59675700  \n",
      "_________________________________________________________________\n",
      "lstm_41 (LSTM)               (None, 70, 50)            20200     \n",
      "_________________________________________________________________\n",
      "dropout_41 (Dropout)         (None, 70, 50)            0         \n",
      "_________________________________________________________________\n",
      "batch_normalization_49 (Batc (None, 70, 50)            200       \n",
      "_________________________________________________________________\n",
      "lstm_42 (LSTM)               (None, 50)                20200     \n",
      "_________________________________________________________________\n",
      "dropout_42 (Dropout)         (None, 50)                0         \n",
      "_________________________________________________________________\n",
      "batch_normalization_50 (Batc (None, 50)                200       \n",
      "_________________________________________________________________\n",
      "predictions (Dense)          (None, 1)                 51        \n",
      "=================================================================\n",
      "Total params: 59,716,551\n",
      "Trainable params: 40,651\n",
      "Non-trainable params: 59,675,900\n",
      "_________________________________________________________________\n"
     ]
    }
   ],
   "source": [
    "best_model = load_model('model/best_model.h5')\n",
    "X_test_indices = sentences_to_indices(X_test, word_to_index, max_features)\n",
    "Y_test_OH = to_categorical(Y_test)\n",
    "loss, acc = best_model.evaluate(X_test_indices, Y_test)\n",
    "print()\n",
    "print(\"Test accuracy = \", acc)\n",
    "best_model.summary()"
   ]
  },
  {
   "cell_type": "code",
   "execution_count": 218,
   "metadata": {},
   "outputs": [
    {
     "data": {
      "text/plain": [
       "[array([[ 9.0566e-01, -7.1792e-01, -1.9574e-01, ...,  1.1230e-03,\n",
       "          2.8188e-02,  3.0385e-01],\n",
       "        [ 5.8560e-01, -3.6964e-01,  6.3480e-02, ...,  5.6656e-01,\n",
       "         -3.6404e-01, -2.5202e-01],\n",
       "        [ 4.5269e-01, -6.2509e-01,  1.6866e-01, ..., -5.0146e-01,\n",
       "          2.9764e-01,  1.4548e-01],\n",
       "        ...,\n",
       "        [-1.0632e-01,  6.8057e-01, -1.5388e+00, ..., -4.8493e-01,\n",
       "          3.2478e-01, -1.1330e-01],\n",
       "        [ 7.6822e-01,  7.1786e-01,  5.8778e-01, ...,  1.6097e-01,\n",
       "          8.9411e-02,  8.4237e-01],\n",
       "        [ 0.0000e+00,  0.0000e+00,  0.0000e+00, ...,  0.0000e+00,\n",
       "          0.0000e+00,  0.0000e+00]], dtype=float32)]"
      ]
     },
     "execution_count": 218,
     "metadata": {},
     "output_type": "execute_result"
    }
   ],
   "source": [
    "embed_layer = model.get_layer('embedding_26')\n",
    "embed_layer.get_weights()"
   ]
  },
  {
   "cell_type": "code",
   "execution_count": 232,
   "metadata": {},
   "outputs": [
    {
     "data": {
      "text/plain": [
       "[array([[ 9.0566e-01, -7.1792e-01, -1.9574e-01, ...,  1.1230e-03,\n",
       "          2.8188e-02,  3.0385e-01],\n",
       "        [ 5.8560e-01, -3.6964e-01,  6.3480e-02, ...,  5.6656e-01,\n",
       "         -3.6404e-01, -2.5202e-01],\n",
       "        [ 4.5269e-01, -6.2509e-01,  1.6866e-01, ..., -5.0146e-01,\n",
       "          2.9764e-01,  1.4548e-01],\n",
       "        ...,\n",
       "        [-1.0632e-01,  6.8057e-01, -1.5388e+00, ..., -4.8493e-01,\n",
       "          3.2478e-01, -1.1330e-01],\n",
       "        [ 7.6822e-01,  7.1786e-01,  5.8778e-01, ...,  1.6097e-01,\n",
       "          8.9411e-02,  8.4237e-01],\n",
       "        [ 0.0000e+00,  0.0000e+00,  0.0000e+00, ...,  0.0000e+00,\n",
       "          0.0000e+00,  0.0000e+00]], dtype=float32),\n",
       " array([[ 0.50352615, -0.4662603 , -0.28757367, ...,  0.2394619 ,\n",
       "         -0.3334812 ,  0.5321654 ],\n",
       "        [-0.1069283 ,  0.15848838,  0.07718259, ..., -0.12472256,\n",
       "         -0.13669449,  0.28242642],\n",
       "        [ 0.05579596,  0.10802864, -0.06282251, ...,  0.36504978,\n",
       "         -0.09208009, -0.46714312],\n",
       "        ...,\n",
       "        [ 0.4176142 ,  0.49989682,  0.1020591 , ..., -0.0679241 ,\n",
       "         -0.14220755, -0.04394454],\n",
       "        [-0.73383486, -0.36074486,  0.12316026, ..., -0.10157531,\n",
       "          0.20505674,  0.43119776],\n",
       "        [ 0.14741763,  0.47102997, -0.10118336, ..., -0.07053205,\n",
       "          0.18021554, -0.17754522]], dtype=float32),\n",
       " array([[-0.37511206,  0.00936103,  0.32879633, ...,  0.00521905,\n",
       "          0.01981135,  0.23703158],\n",
       "        [ 0.05759883, -0.3305234 ,  0.31113797, ..., -0.3365282 ,\n",
       "         -0.17840475, -0.09901989],\n",
       "        [ 0.2531376 , -0.23951373,  0.478354  , ..., -0.08100927,\n",
       "         -0.13242199, -0.51683855],\n",
       "        ...,\n",
       "        [ 0.43647006,  0.06179785,  0.0854838 , ..., -0.14104252,\n",
       "          0.08169785, -0.303906  ],\n",
       "        [-0.0959086 , -0.36354187, -0.29721242, ..., -0.15041319,\n",
       "         -0.16966689,  0.06511723],\n",
       "        [ 0.5404251 ,  0.08018875,  0.09046748, ..., -0.01446522,\n",
       "          0.06543434,  0.10457449]], dtype=float32),\n",
       " array([-7.37855196e-01,  5.97251803e-02, -3.77041221e-01,  2.14838814e-02,\n",
       "        -4.37809438e-01, -5.24317205e-01, -5.46381660e-02,  9.84277576e-04,\n",
       "        -1.12889014e-01, -2.39088312e-01, -1.60649985e-01, -1.30699068e-01,\n",
       "         1.35946088e-02,  9.62804854e-02,  1.11400239e-01, -2.41327420e-01,\n",
       "        -4.22618181e-01,  1.33224621e-01, -1.60219580e-01, -1.43636480e-01,\n",
       "        -3.44451964e-01,  2.43519172e-02, -1.09624369e-02, -1.01780854e-01,\n",
       "         2.02624947e-01, -2.70078868e-01,  1.15744069e-01, -1.61988929e-01,\n",
       "        -5.28211072e-02, -1.31376296e-01,  1.94155261e-01, -4.36070524e-02,\n",
       "        -1.45859316e-01, -7.13012442e-02, -4.81061544e-03, -2.45525137e-01,\n",
       "        -5.24315894e-01,  8.53839591e-02, -4.79740679e-01,  1.27260676e-02,\n",
       "         8.41529667e-02, -3.12176466e-01,  1.43582329e-01,  4.17733788e-02,\n",
       "        -2.83450574e-01, -8.51191729e-02,  9.34536085e-02,  1.01828560e-01,\n",
       "        -1.78682148e-01, -5.56351125e-01,  1.36459088e+00,  1.10782051e+00,\n",
       "         1.24999321e+00,  8.77685368e-01,  9.47773516e-01,  9.05436218e-01,\n",
       "         1.10258436e+00,  9.05521095e-01,  9.51777220e-01,  8.99870515e-01,\n",
       "         9.04174387e-01,  8.59739542e-01,  9.87190127e-01,  9.64955568e-01,\n",
       "         1.16602790e+00,  1.08029640e+00,  1.02894378e+00,  9.30956602e-01,\n",
       "         9.82016563e-01,  9.09806371e-01,  1.05440307e+00,  9.85102773e-01,\n",
       "         1.00109804e+00,  1.19024444e+00,  9.98263896e-01,  9.07519817e-01,\n",
       "         9.74635363e-01,  1.12596869e+00,  8.80141437e-01,  1.00251794e+00,\n",
       "         1.02127278e+00,  9.73830104e-01,  9.03431892e-01,  1.09381008e+00,\n",
       "         9.43945706e-01,  1.11910343e+00,  1.13873684e+00,  1.10827792e+00,\n",
       "         8.86896491e-01,  1.06306159e+00,  7.34127462e-01,  9.72996414e-01,\n",
       "         8.92087579e-01,  1.03939092e+00,  9.34915483e-01,  1.05659819e+00,\n",
       "         1.15788639e+00,  8.35750341e-01,  1.21065247e+00,  1.01722693e+00,\n",
       "        -4.16292921e-02,  1.11670140e-02,  1.00924611e-01, -7.61188641e-02,\n",
       "        -1.87214345e-01, -1.25367641e-01, -4.27162834e-03,  2.28333827e-02,\n",
       "        -1.26444086e-01, -1.42041609e-01,  2.20896035e-01, -2.65531629e-01,\n",
       "        -1.57599747e-02,  5.33114187e-03, -4.51801755e-02,  4.59694415e-02,\n",
       "        -1.24602236e-01, -1.88672319e-02,  5.02493158e-02, -6.42552972e-02,\n",
       "         2.79775038e-02, -2.95948656e-03, -7.26826675e-03, -3.56623828e-02,\n",
       "         7.58857355e-02,  1.82038039e-01,  6.32555261e-02,  1.92058951e-01,\n",
       "         2.45614916e-01, -1.18431568e-01,  2.78400374e-03,  7.22587705e-02,\n",
       "        -1.54095799e-01,  5.27826231e-03,  1.62189648e-01, -9.93028656e-02,\n",
       "        -6.74942359e-02,  1.03278033e-01, -1.02125794e-01, -9.18031484e-02,\n",
       "        -2.83304185e-01, -1.49953261e-01, -1.56251714e-01,  4.65077944e-02,\n",
       "        -1.44462347e-01,  3.63474488e-02, -9.44308490e-02, -3.42034101e-02,\n",
       "         7.96937663e-03, -6.53992891e-02,  5.11957817e-02,  2.81664021e-02,\n",
       "         2.51599073e-01,  2.75641084e-01,  1.44172862e-01, -2.65094917e-02,\n",
       "         9.68151540e-02,  9.38904062e-02,  8.37364420e-02, -4.33181599e-02,\n",
       "         4.53372709e-02,  1.35602772e-01,  4.23005745e-02,  1.78961754e-01,\n",
       "         5.46255708e-02,  7.28138536e-03,  2.38196090e-01,  2.04968348e-01,\n",
       "         1.27484620e-01,  8.24557990e-02,  1.81682631e-02,  1.92528516e-01,\n",
       "         1.01354152e-01,  8.97805914e-02,  1.51503071e-01,  1.26153782e-01,\n",
       "         3.48735377e-02,  1.19601361e-01,  4.24930304e-02,  8.62310082e-02,\n",
       "         1.79130241e-01,  3.88274901e-02,  9.77347270e-02, -6.11478575e-02,\n",
       "         1.06014967e-01, -1.70953814e-02,  6.19263090e-02,  1.46475613e-01,\n",
       "         2.93419231e-02,  3.48293111e-02,  1.03638068e-01,  1.28464952e-01,\n",
       "         1.52313083e-01,  2.58300692e-01,  1.17777377e-01,  6.47027642e-02,\n",
       "         6.63548112e-02,  1.12160824e-01, -7.60174764e-04,  2.85197645e-02],\n",
       "       dtype=float32),\n",
       " array([1.1888596 , 0.5814012 , 1.1118544 , 1.034995  , 0.50161976,\n",
       "        1.0800176 , 0.72303075, 0.9885211 , 0.6869782 , 0.9477493 ,\n",
       "        0.8423589 , 0.5850629 , 0.9064187 , 1.0345075 , 0.8245841 ,\n",
       "        0.78560615, 0.4841891 , 0.81105053, 0.90214866, 0.8847797 ,\n",
       "        0.9809687 , 0.51235265, 1.0084738 , 0.41909888, 0.86233085,\n",
       "        0.8159982 , 1.0202528 , 0.43759573, 0.9477825 , 0.9199715 ,\n",
       "        0.39502412, 0.48256585, 0.91370773, 1.0950816 , 1.1775159 ,\n",
       "        0.84634805, 0.44413573, 0.52398837, 0.85158557, 1.2535095 ,\n",
       "        0.92369276, 0.80855256, 1.0283716 , 0.9490013 , 0.7354239 ,\n",
       "        0.85621905, 0.41643313, 0.85697144, 0.7196292 , 0.43632606],\n",
       "       dtype=float32),\n",
       " array([-0.14545971,  0.02940156, -0.09747503, -0.01654929, -0.06343417,\n",
       "        -0.14683023, -0.00721802, -0.21985683, -0.07004885, -0.13542148,\n",
       "         0.04363111, -0.03370434, -0.16419268, -0.03312126,  0.02540576,\n",
       "        -0.00494882, -0.04117333,  0.04038354, -0.07206192, -0.14436133,\n",
       "         0.18166175, -0.02756792, -0.07161393,  0.04101312, -0.14014496,\n",
       "        -0.01382631, -0.13721825, -0.00817899,  0.07028159, -0.06871402,\n",
       "        -0.00627403, -0.01133348, -0.023197  , -0.06594066, -0.17474338,\n",
       "        -0.14432089, -0.06170748, -0.04772311,  0.02181373, -0.38862967,\n",
       "         0.00363169,  0.02328364,  0.05511037,  0.08094774,  0.02565231,\n",
       "         0.0526454 , -0.03919425,  0.0408344 , -0.05783989, -0.03116961],\n",
       "       dtype=float32),\n",
       " array([ 1.52581200e-01, -1.05992109e-01, -1.52706891e-01,  5.27336262e-02,\n",
       "        -5.53671002e-01,  2.49829292e-02, -7.62199983e-02,  1.19334664e-02,\n",
       "         9.59690511e-02,  4.29266542e-02,  6.79015145e-02, -3.71723503e-01,\n",
       "         6.77787364e-02, -1.20790442e-02, -1.60451725e-01,  1.31541103e-01,\n",
       "        -5.56806982e-01, -6.39482364e-02,  3.24165672e-02, -1.87264770e-01,\n",
       "         1.29871741e-01,  1.49240732e-01, -2.18813252e-02,  5.28186142e-01,\n",
       "         3.93805355e-02,  6.42148033e-02,  5.84344752e-02,  5.96338987e-01,\n",
       "         1.20668495e-02,  1.12908050e-01, -4.74955320e-01,  6.13307118e-01,\n",
       "         4.59818207e-02,  4.57745790e-02,  1.08597334e-02, -3.37425508e-02,\n",
       "        -5.78677773e-01,  4.79380697e-01, -1.93510903e-04,  6.20938726e-02,\n",
       "         1.40249729e-01, -2.37164926e-02, -2.42356509e-02, -1.28662765e-01,\n",
       "        -3.92235190e-01,  1.17252572e-02,  3.01436007e-01,  3.33307544e-03,\n",
       "         2.79787987e-01, -6.63138747e-01], dtype=float32),\n",
       " array([0.23596486, 0.04026647, 0.54679424, 0.06206195, 0.38206938,\n",
       "        0.02844338, 0.05002676, 0.01366221, 0.05115516, 0.02005382,\n",
       "        0.32188553, 0.3338244 , 0.04759596, 0.08236467, 0.04716293,\n",
       "        0.03921682, 0.47930473, 0.04707327, 0.06903062, 0.16221505,\n",
       "        0.30702886, 0.12216853, 0.10207997, 0.3214281 , 0.03473729,\n",
       "        0.39202908, 0.03527177, 0.37335616, 0.21703562, 0.05791636,\n",
       "        0.2544857 , 0.6049903 , 0.0337848 , 0.02144813, 0.00821667,\n",
       "        0.04077915, 0.5563375 , 0.25791013, 0.03070051, 0.03662274,\n",
       "        0.1785437 , 0.08456808, 0.21510492, 0.26824376, 0.243206  ,\n",
       "        0.04919852, 0.09918672, 0.03124886, 0.10404922, 0.6357917 ],\n",
       "       dtype=float32),\n",
       " array([[ 0.0718993 ,  0.36750123,  0.12535535, ...,  0.05676373,\n",
       "          0.04902994,  0.12261829],\n",
       "        [-0.22596033, -0.17332488,  0.03767343, ..., -0.11680426,\n",
       "         -0.00552663,  0.02378017],\n",
       "        [-0.1792151 , -0.00126226,  0.02802393, ..., -0.03977923,\n",
       "          0.0706192 ,  0.11475137],\n",
       "        ...,\n",
       "        [-0.03393242, -0.04156395, -0.09161893, ..., -0.04240656,\n",
       "         -0.23517075, -0.12894586],\n",
       "        [-0.0733477 ,  0.16415504,  0.1770583 , ..., -0.14130242,\n",
       "         -0.14910834, -0.00934838],\n",
       "        [-0.01590341,  0.125536  ,  0.27132392, ..., -0.04464006,\n",
       "          0.13483742,  0.07597851]], dtype=float32),\n",
       " array([[-0.2207868 , -0.13605478, -0.18662733, ..., -0.0623994 ,\n",
       "         -0.18552329, -0.20113975],\n",
       "        [ 0.09141207,  0.1663953 , -0.00967163, ..., -0.04775481,\n",
       "          0.06299306, -0.02670515],\n",
       "        [-0.17407216,  0.09828809,  0.01400004, ...,  0.1274175 ,\n",
       "          0.02857414, -0.11235481],\n",
       "        ...,\n",
       "        [-0.23537578, -0.2024452 , -0.02803076, ..., -0.06054761,\n",
       "         -0.22081438, -0.1962805 ],\n",
       "        [ 0.09509498,  0.1652686 , -0.08906451, ...,  0.12619741,\n",
       "          0.05360733,  0.11325797],\n",
       "        [ 0.07690614, -0.14491008,  0.08107487, ...,  0.03954265,\n",
       "          0.16183582,  0.2227988 ]], dtype=float32),\n",
       " array([-0.2779168 , -0.27344766, -0.30134514, -0.6398385 , -0.24782985,\n",
       "        -0.43144038, -0.24997017, -0.26311058, -0.580093  ,  0.03655767,\n",
       "        -0.21625312, -0.40752426, -0.32690212, -0.31598023, -0.1010041 ,\n",
       "        -0.31475455, -0.3201169 , -0.27507904, -0.14756447, -0.60842997,\n",
       "        -0.38404784, -0.2955685 , -0.23598683, -0.25631374, -0.503995  ,\n",
       "        -0.29650638, -0.30317074, -0.4389576 , -0.37144965, -0.38145423,\n",
       "        -0.45585966, -0.3428362 , -0.46911842, -0.47394451, -0.3659713 ,\n",
       "        -0.23588847, -0.2945553 , -0.3978774 , -0.12452558, -0.42870775,\n",
       "        -0.19328053, -0.4164892 , -0.3182552 , -0.37278274, -0.5188573 ,\n",
       "        -0.26685643, -0.5498122 , -0.24778706, -0.30213735, -0.3719673 ,\n",
       "         0.99133027,  1.1753671 ,  0.94338036,  1.0582546 ,  0.9953177 ,\n",
       "         1.00222   ,  0.9942972 ,  1.0048643 ,  0.8808084 ,  1.2909067 ,\n",
       "         0.96953034,  0.9593158 ,  1.052791  ,  1.1659087 ,  1.1651036 ,\n",
       "         1.0434911 ,  1.1112169 ,  1.1048514 ,  0.93983215,  0.9466007 ,\n",
       "         0.94186074,  0.99025065,  1.0298442 ,  1.2068359 ,  1.1438894 ,\n",
       "         1.193335  ,  1.1283432 ,  1.094593  ,  0.9687218 ,  0.9466742 ,\n",
       "         0.9564131 ,  1.0127797 ,  0.9456664 ,  0.94959915,  0.9514925 ,\n",
       "         0.97665834,  0.97929394,  1.0024381 ,  0.956263  ,  0.835644  ,\n",
       "         0.74455327,  1.0847691 ,  0.9000565 ,  0.98265076,  0.9734616 ,\n",
       "         1.0748967 ,  0.9429438 ,  1.2007077 ,  0.94812286,  1.0196661 ,\n",
       "         0.17612761, -0.04156508,  0.11986785, -0.02032686,  0.20206034,\n",
       "         0.06053977, -0.12691565,  0.01524449,  0.05006674,  0.19634372,\n",
       "        -0.01198767, -0.03562306,  0.07968309,  0.04508213, -0.0296416 ,\n",
       "         0.13860558,  0.01809918, -0.04651761, -0.04527615,  0.0515378 ,\n",
       "         0.04781703, -0.00611596,  0.02701714,  0.07690774, -0.06897449,\n",
       "         0.01316719,  0.00814021,  0.08518463,  0.09337144, -0.11594122,\n",
       "        -0.03363052, -0.02716162,  0.04109347, -0.0277524 ,  0.00951441,\n",
       "        -0.08493608,  0.02934819, -0.04146481, -0.04606757, -0.07953656,\n",
       "         0.05224155, -0.09302717,  0.05316389,  0.01116585,  0.01011612,\n",
       "        -0.00974856,  0.11152428,  0.05210511, -0.01153644,  0.0123628 ,\n",
       "         0.0313643 , -0.01865425, -0.19732821, -0.06920173, -0.05277045,\n",
       "        -0.14025041, -0.2186823 , -0.12288363, -0.35363966,  0.34815663,\n",
       "        -0.21409276, -0.23084387, -0.13517465, -0.07207955, -0.10062056,\n",
       "        -0.11143877, -0.0618235 , -0.12091256, -0.148061  , -0.20305556,\n",
       "        -0.21170507, -0.27830675, -0.30495372, -0.18014066, -0.09228306,\n",
       "        -0.17212394, -0.06925824, -0.0997158 , -0.17056112, -0.16800831,\n",
       "        -0.09243912, -0.10236376, -0.04114778, -0.09536392, -0.26004165,\n",
       "        -0.32961825, -0.3455315 , -0.3364218 , -0.21796088, -0.4349826 ,\n",
       "        -0.38485906, -0.1597287 , -0.24480873, -0.26860404, -0.12477018,\n",
       "        -0.16977166, -0.34040424, -0.1107174 , -0.12206804, -0.30411378],\n",
       "       dtype=float32),\n",
       " array([0.9377789 , 1.0437098 , 1.1417431 , 1.0996599 , 0.7495436 ,\n",
       "        0.9704943 , 1.0495825 , 0.93910736, 1.2618766 , 0.63217676,\n",
       "        1.0102606 , 0.8956832 , 1.0876658 , 0.9519549 , 0.96013355,\n",
       "        0.93765974, 1.0725363 , 0.88085383, 0.87892014, 1.4076927 ,\n",
       "        0.8875365 , 0.90231955, 0.8400399 , 0.99882835, 0.9757923 ,\n",
       "        1.0365708 , 0.91362333, 0.91203976, 0.9653902 , 0.9744185 ,\n",
       "        1.0765667 , 0.9537896 , 1.1749457 , 1.0697898 , 1.103193  ,\n",
       "        0.9336265 , 0.9269418 , 1.012541  , 0.905911  , 0.88061845,\n",
       "        0.86842155, 0.9868999 , 1.0112448 , 0.9601283 , 0.9131977 ,\n",
       "        1.0731543 , 1.151545  , 1.0746791 , 1.013604  , 1.0339705 ],\n",
       "       dtype=float32),\n",
       " array([-0.04576281, -0.01757395,  0.02953986, -0.00731482, -0.0898957 ,\n",
       "        -0.06007117,  0.03256291,  0.01605025,  0.01335633, -0.11671103,\n",
       "        -0.00077942, -0.01495728, -0.00902836, -0.06993195,  0.02399705,\n",
       "        -0.0337546 , -0.00425985,  0.00643813, -0.00111732,  0.00057906,\n",
       "         0.0122931 , -0.00413503, -0.02594831, -0.04266684,  0.00876412,\n",
       "        -0.01954973, -0.06920628, -0.01332933, -0.03350386, -0.0064186 ,\n",
       "         0.00852136, -0.03706365, -0.0244943 ,  0.0064994 ,  0.01965293,\n",
       "         0.02453084,  0.0122102 , -0.0390777 , -0.01012438,  0.02583805,\n",
       "        -0.02147909, -0.01504878,  0.01163216, -0.00774277,  0.03919524,\n",
       "         0.00361955,  0.00115226, -0.03234266,  0.05867131,  0.00637753],\n",
       "       dtype=float32),\n",
       " array([-8.08866993e-02, -1.19094789e-01,  5.24104536e-02,  3.17701660e-02,\n",
       "         5.59871718e-02, -1.74350157e-01, -1.55204590e-02,  3.58669180e-03,\n",
       "         1.08860396e-02,  6.00943089e-01,  2.08090004e-02,  1.73225835e-01,\n",
       "         1.52627854e-02, -1.31264970e-01, -3.19559015e-02, -1.09404795e-01,\n",
       "        -8.95919055e-02,  9.97949988e-02,  4.37392741e-01,  3.72648239e-03,\n",
       "         4.58124168e-02, -3.54713500e-02, -4.39654589e-02, -1.86978549e-01,\n",
       "         1.96542814e-01, -4.18230072e-02,  1.77584924e-02, -2.52050132e-01,\n",
       "        -3.04611288e-02, -2.76167113e-02, -9.61132348e-02,  3.17709185e-02,\n",
       "         2.32457183e-02, -1.17331081e-04,  6.94738254e-02, -4.89793764e-03,\n",
       "         2.16552112e-02, -3.43097262e-02,  1.34218737e-01, -5.28494827e-02,\n",
       "        -2.55407132e-02, -2.38186084e-02, -2.08222866e-02, -1.15443625e-01,\n",
       "        -2.03613192e-02,  1.82226792e-01,  1.43576311e-02, -2.00868323e-01,\n",
       "         6.08024597e-02,  1.74530014e-01], dtype=float32),\n",
       " array([0.16149545, 0.08235178, 0.0717198 , 0.07903577, 0.13881141,\n",
       "        0.13366435, 0.07866293, 0.13347866, 0.02679077, 0.6265468 ,\n",
       "        0.07866324, 0.24420233, 0.08173368, 0.21908937, 0.49095744,\n",
       "        0.19131625, 0.34793642, 0.13322908, 0.46227774, 0.05765028,\n",
       "        0.10120128, 0.1754326 , 0.1460365 , 0.29430032, 0.25064728,\n",
       "        0.12402359, 0.173867  , 0.25320244, 0.09552433, 0.03967837,\n",
       "        0.06802619, 0.3033326 , 0.08899967, 0.076751  , 0.07038812,\n",
       "        0.17215075, 0.0994418 , 0.0277756 , 0.14817527, 0.02992714,\n",
       "        0.0727549 , 0.15699388, 0.05282714, 0.16946004, 0.09451397,\n",
       "        0.21787977, 0.02358274, 0.30032197, 0.0901461 , 0.18176161],\n",
       "       dtype=float32),\n",
       " array([[ 0.13695891],\n",
       "        [-0.15772451],\n",
       "        [-0.21089536],\n",
       "        [ 0.31358853],\n",
       "        [ 0.05125538],\n",
       "        [ 0.18129498],\n",
       "        [-0.17673361],\n",
       "        [-0.14319699],\n",
       "        [ 0.32558846],\n",
       "        [-0.01065144],\n",
       "        [-0.12241852],\n",
       "        [ 0.20471019],\n",
       "        [-0.24563894],\n",
       "        [ 0.1224359 ],\n",
       "        [-0.16860962],\n",
       "        [ 0.20621231],\n",
       "        [-0.15383486],\n",
       "        [ 0.11874509],\n",
       "        [ 0.09938727],\n",
       "        [-0.45361266],\n",
       "        [-0.15714471],\n",
       "        [-0.12006651],\n",
       "        [ 0.14098988],\n",
       "        [ 0.11892851],\n",
       "        [-0.22033991],\n",
       "        [-0.12894644],\n",
       "        [ 0.17784357],\n",
       "        [-0.18485647],\n",
       "        [ 0.18620718],\n",
       "        [ 0.24021322],\n",
       "        [-0.29517266],\n",
       "        [ 0.17930979],\n",
       "        [-0.22465783],\n",
       "        [-0.32166368],\n",
       "        [-0.28032133],\n",
       "        [-0.22301131],\n",
       "        [-0.19645804],\n",
       "        [ 0.13183947],\n",
       "        [ 0.1804674 ],\n",
       "        [-0.10379582],\n",
       "        [ 0.14381725],\n",
       "        [-0.16771588],\n",
       "        [-0.20706153],\n",
       "        [-0.13535258],\n",
       "        [-0.22009932],\n",
       "        [-0.14971395],\n",
       "        [-0.18463433],\n",
       "        [-0.14486983],\n",
       "        [-0.23873672],\n",
       "        [ 0.12268517]], dtype=float32),\n",
       " array([-0.01036873], dtype=float32)]"
      ]
     },
     "execution_count": 232,
     "metadata": {},
     "output_type": "execute_result"
    }
   ],
   "source": [
    "model."
   ]
  },
  {
   "cell_type": "code",
   "execution_count": null,
   "metadata": {},
   "outputs": [],
   "source": [
    "# test_model = keras.Model.build()"
   ]
  }
 ],
 "metadata": {
  "kernelspec": {
   "display_name": "Python 3",
   "language": "python",
   "name": "python3"
  },
  "language_info": {
   "codemirror_mode": {
    "name": "ipython",
    "version": 3
   },
   "file_extension": ".py",
   "mimetype": "text/x-python",
   "name": "python",
   "nbconvert_exporter": "python",
   "pygments_lexer": "ipython3",
   "version": "3.6.10"
  }
 },
 "nbformat": 4,
 "nbformat_minor": 2
}
